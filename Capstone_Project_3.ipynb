{
  "nbformat": 4,
  "nbformat_minor": 0,
  "metadata": {
    "colab": {
      "provenance": [],
      "collapsed_sections": []
    },
    "kernelspec": {
      "name": "python3",
      "display_name": "Python 3"
    },
    "language_info": {
      "name": "python"
    }
  },
  "cells": [
    {
      "cell_type": "markdown",
      "source": [
        "#Capstone Project Module 3\n",
        "\n",
        "Nama : Muhammad Faizal Akbar\n",
        "\n",
        "Dataset : Bike Sharing\n",
        "\n",
        "##Sumber data\n",
        "\n",
        "-Contents\n",
        "-Business Problem Understanding\n",
        "-Data Understanding\n",
        "-Data Preprocessing (Data Cleaning, Feature Selection, Feature Engineering) -Modeling (Algorithm, Evaluation Metrics)\n",
        "-Conclusion\n",
        "-Recommendation / Improvement\n",
        "\n",
        "##Business Problem Understanding\n",
        "\n",
        "Bike sharing merupakan sebuah sistem penyewaan sepeda dimana seseorang dapat menyewa sepeda pada satu lokasi (dock), dan mengembalikannya pada dock lain di lokasi yang berbeda namun masih dalam satu sistem yang sama. Perusahaan juga menyediakan fitur membership (keanggotaan), namun seseorang tetap dapat menyewa sepeda meskipun tidak terdaftar sebagai anggota.\n",
        "\n",
        "Data yang digunakan dalam project ini adalah data cuaca yaitu humidity dan temperatur, musim, tanggal, jam, keanggotaan, serta total penyewa pada satu hari tertentu.\n",
        "\n",
        "##Problem Statement\n",
        "\n",
        "Dari dataset tersebut, dapat dilihat bahwa terdapat tantangan bagi perusahaan penyedia layanan Bike sharing yaitu berapa banyak unit sepeda yang perlu disiapkan pada waktu tertentu. Untuk itu diperlukan terlebih dahulu pemahaman terhadap customer penyewa sepeda pada kondisi dan waktu tertentu, sehingga perusahaan dapat menyediakan jumlah sepeda yang optimal. Karena jika jumlah sepeda tidak mencukupi demand dari customer, maka perusahaan berpotensi kehilangan kepercayaan customer yang berujung pada hilangnya pelanggan. Namun, jika penyediaan sepeda melampaui demand yang ada, maka tidak baik untuk perusahaan dalam hal effisiensi.\n",
        "\n",
        "##Goals\n",
        "\n",
        "Berdasarkan kondisi tersebut, perusahaan ingin menentukan jumlah unit sepeda yang optimal untuk disediakan pada waktu dan kondisi tertentu, sehingga perlu adanya analisis terkait jumlah penyewa pada waktu dan kondisi tertentu.\n",
        "\n",
        "##Analytic Approach\n",
        "\n",
        "Analisis diperlukan terhadap data untuk melihat pola dari kondisi-kondisi yang terjadi dapat mempengaruhi penyewaan sepeda untuk kemudian dibuat model regresi untuk prediksi total jumlah sepeda yang perlu disediakan perusahaan pada waktu dan kondisi tertentu.\n",
        "\n",
        "##Metric Evaluation\n",
        "\n",
        "Evaluasi metrik yang akan digunakan adalah MAE, MAPE, dan RMSE. Semakin mendekati nol nilai MAE, MAPE, dan RMSE yang dihasilkan, berarti model semakin akurat dalam memprediksi total penyewa sesuai dengan limitasi fitur yang digunakan.\n",
        "\n",
        "MAE adalah metrik sederhana yang menghitung selisih absolut antara hasil aktual dan hasil prediksi, cocok digunakan jika Y memiliki variance yang kecil, dan terdapat banyak outliers pada residual.\n",
        "\n",
        "MAPE adalah rataan persentase error yang dihasilkan oleh model regresi, cocok digunakan jika ingin mengukur performa model berdasarkan error relative dan dapat digunakan untuk data dengan banyak outliers.\n",
        "\n",
        "RMSE adalah akar dari selisih kuadrat hasil prediksi dan hasil aktual, cocok digunakan jika variance dan rentang nilai target tidak terlalu besar dan memiliki sedikit outliers.\n",
        "\n",
        "##Data Understanding\n",
        "\n",
        "Dataset yang akan digunakan merupakan data rental sepeda pada tahun 2011 - 2012. Setiap baris data merepresentasikan informasi terkait penyewaan sepeda pada jam dan tanggal tertentu."
      ],
      "metadata": {
        "id": "YsjfJAdJ9MjS"
      }
    },
    {
      "cell_type": "markdown",
      "source": [
        "**Attributes Information**\n",
        "\n",
        "| **Attribute** | **Data Type** | **Description** |\n",
        "| --- | --- | --- |\n",
        "| dteday | Object | Date |\n",
        "| hum | Float | Normalized humidity. The values are divided to 100 (max) |\n",
        "| weathersit | Integer | Weather Situation. Details : |\n",
        "|  |  | 1: Clear, Few clouds, Partly cloudy |\n",
        "|  |  | 2: Mist + Cloudy, Mist + Broken clouds, Mist + Few clouds, Mist |\n",
        "|  |  | 3: Light Snow, Light Rain + Thunderstorm + Scattered clouds, Light Rain + Scattered clouds |\n",
        "|  |  | 4: Heavy Rain + Ice Pallets + Thunderstorm + Mist, Snow + Fog |\n",
        "| holiday | Integer | Whether the day is considered a holiday |\n",
        "| season | Integer | 1 = spring, 2 = summer, 3 = fall, 4 = winter |\n",
        "| atemp | Float | \"Feels like\" temperature in Celsius |\n",
        "| temp | Float | Temperature in Celsius |\n",
        "| hr | Integer | Hour (0 to 23) |\n",
        "| casual | Integer | Number of non-registered user rentals initiated |\n",
        "| resgistered | Integer | Number of registered user rentals initiated |\n",
        "| cnt | Integer | Number of total rentals (include both casual and registered) |\n",
        "\n",
        "\n",
        "\n",
        "<br>"
      ],
      "metadata": {
        "id": "ZD0hs0qX9wWg"
      }
    },
    {
      "cell_type": "markdown",
      "source": [
        "#LIBRARY"
      ],
      "metadata": {
        "id": "dzllyHRK92k4"
      }
    },
    {
      "cell_type": "code",
      "source": [
        "import pandas as pd \n",
        "import numpy as np\n",
        "import matplotlib.pyplot as plt\n",
        "import seaborn as sns\n",
        "import warnings\n",
        "warnings.filterwarnings('ignore')"
      ],
      "metadata": {
        "id": "pobd1sVm90wR"
      },
      "execution_count": null,
      "outputs": []
    },
    {
      "cell_type": "code",
      "source": [
        "pip install matplotlib --upgrade"
      ],
      "metadata": {
        "colab": {
          "base_uri": "https://localhost:8080/"
        },
        "id": "mqC_gsPrI6z_",
        "outputId": "f29b6dc7-0bb3-4084-d35f-fa547b8fa06d"
      },
      "execution_count": null,
      "outputs": [
        {
          "output_type": "stream",
          "name": "stdout",
          "text": [
            "Looking in indexes: https://pypi.org/simple, https://us-python.pkg.dev/colab-wheels/public/simple/\n",
            "Requirement already satisfied: matplotlib in /usr/local/lib/python3.7/dist-packages (3.5.3)\n",
            "Requirement already satisfied: pyparsing>=2.2.1 in /usr/local/lib/python3.7/dist-packages (from matplotlib) (3.0.9)\n",
            "Requirement already satisfied: cycler>=0.10 in /usr/local/lib/python3.7/dist-packages (from matplotlib) (0.11.0)\n",
            "Requirement already satisfied: packaging>=20.0 in /usr/local/lib/python3.7/dist-packages (from matplotlib) (21.3)\n",
            "Requirement already satisfied: python-dateutil>=2.7 in /usr/local/lib/python3.7/dist-packages (from matplotlib) (2.8.2)\n",
            "Requirement already satisfied: kiwisolver>=1.0.1 in /usr/local/lib/python3.7/dist-packages (from matplotlib) (1.4.4)\n",
            "Requirement already satisfied: fonttools>=4.22.0 in /usr/local/lib/python3.7/dist-packages (from matplotlib) (4.38.0)\n",
            "Requirement already satisfied: numpy>=1.17 in /usr/local/lib/python3.7/dist-packages (from matplotlib) (1.21.6)\n",
            "Requirement already satisfied: pillow>=6.2.0 in /usr/local/lib/python3.7/dist-packages (from matplotlib) (7.1.2)\n",
            "Requirement already satisfied: typing-extensions in /usr/local/lib/python3.7/dist-packages (from kiwisolver>=1.0.1->matplotlib) (4.1.1)\n",
            "Requirement already satisfied: six>=1.5 in /usr/local/lib/python3.7/dist-packages (from python-dateutil>=2.7->matplotlib) (1.15.0)\n"
          ]
        }
      ]
    },
    {
      "cell_type": "markdown",
      "source": [
        "###DATASET"
      ],
      "metadata": {
        "id": "sxuhtIKN-Br4"
      }
    },
    {
      "cell_type": "code",
      "source": [
        "df = pd.read_csv('data_bike_sharing.csv')\n",
        "df.head()"
      ],
      "metadata": {
        "colab": {
          "base_uri": "https://localhost:8080/",
          "height": 206
        },
        "id": "m5ol-XD6981s",
        "outputId": "492ca7cd-4b52-4ed7-c59f-49ca0b968f7e"
      },
      "execution_count": null,
      "outputs": [
        {
          "output_type": "execute_result",
          "data": {
            "text/plain": [
              "       dteday   hum  weathersit  holiday  season   atemp  temp  hr  casual  \\\n",
              "0  2011-12-09  0.62           1        0       4  0.3485  0.36  16      24   \n",
              "1  2012-06-17  0.64           1        0       2  0.5152  0.54   4       2   \n",
              "2  2011-06-15  0.53           1        0       2  0.6212  0.62  23      17   \n",
              "3  2012-03-31  0.87           2        0       2  0.3485  0.36   8      19   \n",
              "4  2012-07-31  0.55           1        0       3  0.6970  0.76  18      99   \n",
              "\n",
              "   registered  cnt  \n",
              "0         226  250  \n",
              "1          16   18  \n",
              "2          90  107  \n",
              "3         126  145  \n",
              "4         758  857  "
            ],
            "text/html": [
              "\n",
              "  <div id=\"df-e0c365e6-43f9-44f1-b888-f257102c6452\">\n",
              "    <div class=\"colab-df-container\">\n",
              "      <div>\n",
              "<style scoped>\n",
              "    .dataframe tbody tr th:only-of-type {\n",
              "        vertical-align: middle;\n",
              "    }\n",
              "\n",
              "    .dataframe tbody tr th {\n",
              "        vertical-align: top;\n",
              "    }\n",
              "\n",
              "    .dataframe thead th {\n",
              "        text-align: right;\n",
              "    }\n",
              "</style>\n",
              "<table border=\"1\" class=\"dataframe\">\n",
              "  <thead>\n",
              "    <tr style=\"text-align: right;\">\n",
              "      <th></th>\n",
              "      <th>dteday</th>\n",
              "      <th>hum</th>\n",
              "      <th>weathersit</th>\n",
              "      <th>holiday</th>\n",
              "      <th>season</th>\n",
              "      <th>atemp</th>\n",
              "      <th>temp</th>\n",
              "      <th>hr</th>\n",
              "      <th>casual</th>\n",
              "      <th>registered</th>\n",
              "      <th>cnt</th>\n",
              "    </tr>\n",
              "  </thead>\n",
              "  <tbody>\n",
              "    <tr>\n",
              "      <th>0</th>\n",
              "      <td>2011-12-09</td>\n",
              "      <td>0.62</td>\n",
              "      <td>1</td>\n",
              "      <td>0</td>\n",
              "      <td>4</td>\n",
              "      <td>0.3485</td>\n",
              "      <td>0.36</td>\n",
              "      <td>16</td>\n",
              "      <td>24</td>\n",
              "      <td>226</td>\n",
              "      <td>250</td>\n",
              "    </tr>\n",
              "    <tr>\n",
              "      <th>1</th>\n",
              "      <td>2012-06-17</td>\n",
              "      <td>0.64</td>\n",
              "      <td>1</td>\n",
              "      <td>0</td>\n",
              "      <td>2</td>\n",
              "      <td>0.5152</td>\n",
              "      <td>0.54</td>\n",
              "      <td>4</td>\n",
              "      <td>2</td>\n",
              "      <td>16</td>\n",
              "      <td>18</td>\n",
              "    </tr>\n",
              "    <tr>\n",
              "      <th>2</th>\n",
              "      <td>2011-06-15</td>\n",
              "      <td>0.53</td>\n",
              "      <td>1</td>\n",
              "      <td>0</td>\n",
              "      <td>2</td>\n",
              "      <td>0.6212</td>\n",
              "      <td>0.62</td>\n",
              "      <td>23</td>\n",
              "      <td>17</td>\n",
              "      <td>90</td>\n",
              "      <td>107</td>\n",
              "    </tr>\n",
              "    <tr>\n",
              "      <th>3</th>\n",
              "      <td>2012-03-31</td>\n",
              "      <td>0.87</td>\n",
              "      <td>2</td>\n",
              "      <td>0</td>\n",
              "      <td>2</td>\n",
              "      <td>0.3485</td>\n",
              "      <td>0.36</td>\n",
              "      <td>8</td>\n",
              "      <td>19</td>\n",
              "      <td>126</td>\n",
              "      <td>145</td>\n",
              "    </tr>\n",
              "    <tr>\n",
              "      <th>4</th>\n",
              "      <td>2012-07-31</td>\n",
              "      <td>0.55</td>\n",
              "      <td>1</td>\n",
              "      <td>0</td>\n",
              "      <td>3</td>\n",
              "      <td>0.6970</td>\n",
              "      <td>0.76</td>\n",
              "      <td>18</td>\n",
              "      <td>99</td>\n",
              "      <td>758</td>\n",
              "      <td>857</td>\n",
              "    </tr>\n",
              "  </tbody>\n",
              "</table>\n",
              "</div>\n",
              "      <button class=\"colab-df-convert\" onclick=\"convertToInteractive('df-e0c365e6-43f9-44f1-b888-f257102c6452')\"\n",
              "              title=\"Convert this dataframe to an interactive table.\"\n",
              "              style=\"display:none;\">\n",
              "        \n",
              "  <svg xmlns=\"http://www.w3.org/2000/svg\" height=\"24px\"viewBox=\"0 0 24 24\"\n",
              "       width=\"24px\">\n",
              "    <path d=\"M0 0h24v24H0V0z\" fill=\"none\"/>\n",
              "    <path d=\"M18.56 5.44l.94 2.06.94-2.06 2.06-.94-2.06-.94-.94-2.06-.94 2.06-2.06.94zm-11 1L8.5 8.5l.94-2.06 2.06-.94-2.06-.94L8.5 2.5l-.94 2.06-2.06.94zm10 10l.94 2.06.94-2.06 2.06-.94-2.06-.94-.94-2.06-.94 2.06-2.06.94z\"/><path d=\"M17.41 7.96l-1.37-1.37c-.4-.4-.92-.59-1.43-.59-.52 0-1.04.2-1.43.59L10.3 9.45l-7.72 7.72c-.78.78-.78 2.05 0 2.83L4 21.41c.39.39.9.59 1.41.59.51 0 1.02-.2 1.41-.59l7.78-7.78 2.81-2.81c.8-.78.8-2.07 0-2.86zM5.41 20L4 18.59l7.72-7.72 1.47 1.35L5.41 20z\"/>\n",
              "  </svg>\n",
              "      </button>\n",
              "      \n",
              "  <style>\n",
              "    .colab-df-container {\n",
              "      display:flex;\n",
              "      flex-wrap:wrap;\n",
              "      gap: 12px;\n",
              "    }\n",
              "\n",
              "    .colab-df-convert {\n",
              "      background-color: #E8F0FE;\n",
              "      border: none;\n",
              "      border-radius: 50%;\n",
              "      cursor: pointer;\n",
              "      display: none;\n",
              "      fill: #1967D2;\n",
              "      height: 32px;\n",
              "      padding: 0 0 0 0;\n",
              "      width: 32px;\n",
              "    }\n",
              "\n",
              "    .colab-df-convert:hover {\n",
              "      background-color: #E2EBFA;\n",
              "      box-shadow: 0px 1px 2px rgba(60, 64, 67, 0.3), 0px 1px 3px 1px rgba(60, 64, 67, 0.15);\n",
              "      fill: #174EA6;\n",
              "    }\n",
              "\n",
              "    [theme=dark] .colab-df-convert {\n",
              "      background-color: #3B4455;\n",
              "      fill: #D2E3FC;\n",
              "    }\n",
              "\n",
              "    [theme=dark] .colab-df-convert:hover {\n",
              "      background-color: #434B5C;\n",
              "      box-shadow: 0px 1px 3px 1px rgba(0, 0, 0, 0.15);\n",
              "      filter: drop-shadow(0px 1px 2px rgba(0, 0, 0, 0.3));\n",
              "      fill: #FFFFFF;\n",
              "    }\n",
              "  </style>\n",
              "\n",
              "      <script>\n",
              "        const buttonEl =\n",
              "          document.querySelector('#df-e0c365e6-43f9-44f1-b888-f257102c6452 button.colab-df-convert');\n",
              "        buttonEl.style.display =\n",
              "          google.colab.kernel.accessAllowed ? 'block' : 'none';\n",
              "\n",
              "        async function convertToInteractive(key) {\n",
              "          const element = document.querySelector('#df-e0c365e6-43f9-44f1-b888-f257102c6452');\n",
              "          const dataTable =\n",
              "            await google.colab.kernel.invokeFunction('convertToInteractive',\n",
              "                                                     [key], {});\n",
              "          if (!dataTable) return;\n",
              "\n",
              "          const docLinkHtml = 'Like what you see? Visit the ' +\n",
              "            '<a target=\"_blank\" href=https://colab.research.google.com/notebooks/data_table.ipynb>data table notebook</a>'\n",
              "            + ' to learn more about interactive tables.';\n",
              "          element.innerHTML = '';\n",
              "          dataTable['output_type'] = 'display_data';\n",
              "          await google.colab.output.renderOutput(dataTable, element);\n",
              "          const docLink = document.createElement('div');\n",
              "          docLink.innerHTML = docLinkHtml;\n",
              "          element.appendChild(docLink);\n",
              "        }\n",
              "      </script>\n",
              "    </div>\n",
              "  </div>\n",
              "  "
            ]
          },
          "metadata": {},
          "execution_count": 160
        }
      ]
    },
    {
      "cell_type": "markdown",
      "source": [
        "##DATA PREPROCESSING"
      ],
      "metadata": {
        "id": "SudF9MfyAf0c"
      }
    },
    {
      "cell_type": "markdown",
      "source": [
        "Pada tahap data preprocessing, akan dilakukan cleaning data. Dataset yang sudah bersih akan digunakan untuk proses analisis lebih lanjut. Pada tahap ini, akan dilakukan :\n",
        "\n",
        "- Menghapus data duplicate.\n",
        "Jika terdapat kesalahan tipe data, akan diubah ke tipe yang seharusnya.\n",
        "\n",
        "- Drop fitur yang tidak memiliki relevansi terhadap masalah yang sedang dihadapi.\n",
        "\n",
        "- Add fitur yang kemungkinan memiliki relevansi terhadap masalah yang sedang dihadapi.\n",
        "\n",
        "- Jika terdapat missing value, perlu dilakukan treatment yang sesuai (Drop fitur, imputasi dengan nilai yang sesuai, drop data, etc).\n",
        "\n",
        "- Jika terdapat outlier, perlu dilakukan treatment yang sesuai.\n",
        "Untuk proses data preprocessing dan feature engineering, akan digunakan dataframe duplikasi dari dataframe yang sebelumnya digunakan."
      ],
      "metadata": {
        "id": "wJkU9H5VAdMV"
      }
    },
    {
      "cell_type": "markdown",
      "source": [
        "###ADD FEATURE ENGINEERING"
      ],
      "metadata": {
        "id": "-aqpijlUCSFo"
      }
    },
    {
      "cell_type": "code",
      "source": [
        "# Menambahkan month, year, dayname dari fitur dteday\n",
        "month=[]\n",
        "year=[]\n",
        "dayname=[]\n",
        "df['month'] = pd.to_datetime(df['dteday']).dt.month\n",
        "df['year'] = pd.to_datetime(df['dteday']).dt.year\n",
        "df['dayname'] = pd.to_datetime(df['dteday']).dt.day_of_week"
      ],
      "metadata": {
        "id": "2nJAN6PPAdxn"
      },
      "execution_count": null,
      "outputs": []
    },
    {
      "cell_type": "code",
      "source": [
        "df"
      ],
      "metadata": {
        "colab": {
          "base_uri": "https://localhost:8080/",
          "height": 424
        },
        "id": "AGN-McWXAzJr",
        "outputId": "7a88d099-7960-49a6-c3e5-209c00836ef7"
      },
      "execution_count": null,
      "outputs": [
        {
          "output_type": "execute_result",
          "data": {
            "text/plain": [
              "           dteday   hum  weathersit  holiday  season   atemp  temp  hr  \\\n",
              "0      2011-12-09  0.62           1        0       4  0.3485  0.36  16   \n",
              "1      2012-06-17  0.64           1        0       2  0.5152  0.54   4   \n",
              "2      2011-06-15  0.53           1        0       2  0.6212  0.62  23   \n",
              "3      2012-03-31  0.87           2        0       2  0.3485  0.36   8   \n",
              "4      2012-07-31  0.55           1        0       3  0.6970  0.76  18   \n",
              "...           ...   ...         ...      ...     ...     ...   ...  ..   \n",
              "12160  2012-01-25  0.75           1        0       1  0.2273  0.24   7   \n",
              "12161  2012-07-06  0.62           1        0       3  0.7424  0.78   0   \n",
              "12162  2012-02-20  0.60           2        1       1  0.2121  0.24   5   \n",
              "12163  2012-03-31  0.77           2        0       2  0.4242  0.42   2   \n",
              "12164  2011-04-28  0.47           1        0       2  0.6212  0.64  18   \n",
              "\n",
              "       casual  registered  cnt  month  year  dayname  \n",
              "0          24         226  250     12  2011        4  \n",
              "1           2          16   18      6  2012        6  \n",
              "2          17          90  107      6  2011        2  \n",
              "3          19         126  145      3  2012        5  \n",
              "4          99         758  857      7  2012        1  \n",
              "...       ...         ...  ...    ...   ...      ...  \n",
              "12160      14         243  257      1  2012        2  \n",
              "12161      39          63  102      7  2012        4  \n",
              "12162       0           6    6      2  2012        0  \n",
              "12163      14          55   69      3  2012        5  \n",
              "12164      44         486  530      4  2011        3  \n",
              "\n",
              "[12165 rows x 14 columns]"
            ],
            "text/html": [
              "\n",
              "  <div id=\"df-002991d5-8b94-4be8-bbf7-b54118422fe1\">\n",
              "    <div class=\"colab-df-container\">\n",
              "      <div>\n",
              "<style scoped>\n",
              "    .dataframe tbody tr th:only-of-type {\n",
              "        vertical-align: middle;\n",
              "    }\n",
              "\n",
              "    .dataframe tbody tr th {\n",
              "        vertical-align: top;\n",
              "    }\n",
              "\n",
              "    .dataframe thead th {\n",
              "        text-align: right;\n",
              "    }\n",
              "</style>\n",
              "<table border=\"1\" class=\"dataframe\">\n",
              "  <thead>\n",
              "    <tr style=\"text-align: right;\">\n",
              "      <th></th>\n",
              "      <th>dteday</th>\n",
              "      <th>hum</th>\n",
              "      <th>weathersit</th>\n",
              "      <th>holiday</th>\n",
              "      <th>season</th>\n",
              "      <th>atemp</th>\n",
              "      <th>temp</th>\n",
              "      <th>hr</th>\n",
              "      <th>casual</th>\n",
              "      <th>registered</th>\n",
              "      <th>cnt</th>\n",
              "      <th>month</th>\n",
              "      <th>year</th>\n",
              "      <th>dayname</th>\n",
              "    </tr>\n",
              "  </thead>\n",
              "  <tbody>\n",
              "    <tr>\n",
              "      <th>0</th>\n",
              "      <td>2011-12-09</td>\n",
              "      <td>0.62</td>\n",
              "      <td>1</td>\n",
              "      <td>0</td>\n",
              "      <td>4</td>\n",
              "      <td>0.3485</td>\n",
              "      <td>0.36</td>\n",
              "      <td>16</td>\n",
              "      <td>24</td>\n",
              "      <td>226</td>\n",
              "      <td>250</td>\n",
              "      <td>12</td>\n",
              "      <td>2011</td>\n",
              "      <td>4</td>\n",
              "    </tr>\n",
              "    <tr>\n",
              "      <th>1</th>\n",
              "      <td>2012-06-17</td>\n",
              "      <td>0.64</td>\n",
              "      <td>1</td>\n",
              "      <td>0</td>\n",
              "      <td>2</td>\n",
              "      <td>0.5152</td>\n",
              "      <td>0.54</td>\n",
              "      <td>4</td>\n",
              "      <td>2</td>\n",
              "      <td>16</td>\n",
              "      <td>18</td>\n",
              "      <td>6</td>\n",
              "      <td>2012</td>\n",
              "      <td>6</td>\n",
              "    </tr>\n",
              "    <tr>\n",
              "      <th>2</th>\n",
              "      <td>2011-06-15</td>\n",
              "      <td>0.53</td>\n",
              "      <td>1</td>\n",
              "      <td>0</td>\n",
              "      <td>2</td>\n",
              "      <td>0.6212</td>\n",
              "      <td>0.62</td>\n",
              "      <td>23</td>\n",
              "      <td>17</td>\n",
              "      <td>90</td>\n",
              "      <td>107</td>\n",
              "      <td>6</td>\n",
              "      <td>2011</td>\n",
              "      <td>2</td>\n",
              "    </tr>\n",
              "    <tr>\n",
              "      <th>3</th>\n",
              "      <td>2012-03-31</td>\n",
              "      <td>0.87</td>\n",
              "      <td>2</td>\n",
              "      <td>0</td>\n",
              "      <td>2</td>\n",
              "      <td>0.3485</td>\n",
              "      <td>0.36</td>\n",
              "      <td>8</td>\n",
              "      <td>19</td>\n",
              "      <td>126</td>\n",
              "      <td>145</td>\n",
              "      <td>3</td>\n",
              "      <td>2012</td>\n",
              "      <td>5</td>\n",
              "    </tr>\n",
              "    <tr>\n",
              "      <th>4</th>\n",
              "      <td>2012-07-31</td>\n",
              "      <td>0.55</td>\n",
              "      <td>1</td>\n",
              "      <td>0</td>\n",
              "      <td>3</td>\n",
              "      <td>0.6970</td>\n",
              "      <td>0.76</td>\n",
              "      <td>18</td>\n",
              "      <td>99</td>\n",
              "      <td>758</td>\n",
              "      <td>857</td>\n",
              "      <td>7</td>\n",
              "      <td>2012</td>\n",
              "      <td>1</td>\n",
              "    </tr>\n",
              "    <tr>\n",
              "      <th>...</th>\n",
              "      <td>...</td>\n",
              "      <td>...</td>\n",
              "      <td>...</td>\n",
              "      <td>...</td>\n",
              "      <td>...</td>\n",
              "      <td>...</td>\n",
              "      <td>...</td>\n",
              "      <td>...</td>\n",
              "      <td>...</td>\n",
              "      <td>...</td>\n",
              "      <td>...</td>\n",
              "      <td>...</td>\n",
              "      <td>...</td>\n",
              "      <td>...</td>\n",
              "    </tr>\n",
              "    <tr>\n",
              "      <th>12160</th>\n",
              "      <td>2012-01-25</td>\n",
              "      <td>0.75</td>\n",
              "      <td>1</td>\n",
              "      <td>0</td>\n",
              "      <td>1</td>\n",
              "      <td>0.2273</td>\n",
              "      <td>0.24</td>\n",
              "      <td>7</td>\n",
              "      <td>14</td>\n",
              "      <td>243</td>\n",
              "      <td>257</td>\n",
              "      <td>1</td>\n",
              "      <td>2012</td>\n",
              "      <td>2</td>\n",
              "    </tr>\n",
              "    <tr>\n",
              "      <th>12161</th>\n",
              "      <td>2012-07-06</td>\n",
              "      <td>0.62</td>\n",
              "      <td>1</td>\n",
              "      <td>0</td>\n",
              "      <td>3</td>\n",
              "      <td>0.7424</td>\n",
              "      <td>0.78</td>\n",
              "      <td>0</td>\n",
              "      <td>39</td>\n",
              "      <td>63</td>\n",
              "      <td>102</td>\n",
              "      <td>7</td>\n",
              "      <td>2012</td>\n",
              "      <td>4</td>\n",
              "    </tr>\n",
              "    <tr>\n",
              "      <th>12162</th>\n",
              "      <td>2012-02-20</td>\n",
              "      <td>0.60</td>\n",
              "      <td>2</td>\n",
              "      <td>1</td>\n",
              "      <td>1</td>\n",
              "      <td>0.2121</td>\n",
              "      <td>0.24</td>\n",
              "      <td>5</td>\n",
              "      <td>0</td>\n",
              "      <td>6</td>\n",
              "      <td>6</td>\n",
              "      <td>2</td>\n",
              "      <td>2012</td>\n",
              "      <td>0</td>\n",
              "    </tr>\n",
              "    <tr>\n",
              "      <th>12163</th>\n",
              "      <td>2012-03-31</td>\n",
              "      <td>0.77</td>\n",
              "      <td>2</td>\n",
              "      <td>0</td>\n",
              "      <td>2</td>\n",
              "      <td>0.4242</td>\n",
              "      <td>0.42</td>\n",
              "      <td>2</td>\n",
              "      <td>14</td>\n",
              "      <td>55</td>\n",
              "      <td>69</td>\n",
              "      <td>3</td>\n",
              "      <td>2012</td>\n",
              "      <td>5</td>\n",
              "    </tr>\n",
              "    <tr>\n",
              "      <th>12164</th>\n",
              "      <td>2011-04-28</td>\n",
              "      <td>0.47</td>\n",
              "      <td>1</td>\n",
              "      <td>0</td>\n",
              "      <td>2</td>\n",
              "      <td>0.6212</td>\n",
              "      <td>0.64</td>\n",
              "      <td>18</td>\n",
              "      <td>44</td>\n",
              "      <td>486</td>\n",
              "      <td>530</td>\n",
              "      <td>4</td>\n",
              "      <td>2011</td>\n",
              "      <td>3</td>\n",
              "    </tr>\n",
              "  </tbody>\n",
              "</table>\n",
              "<p>12165 rows × 14 columns</p>\n",
              "</div>\n",
              "      <button class=\"colab-df-convert\" onclick=\"convertToInteractive('df-002991d5-8b94-4be8-bbf7-b54118422fe1')\"\n",
              "              title=\"Convert this dataframe to an interactive table.\"\n",
              "              style=\"display:none;\">\n",
              "        \n",
              "  <svg xmlns=\"http://www.w3.org/2000/svg\" height=\"24px\"viewBox=\"0 0 24 24\"\n",
              "       width=\"24px\">\n",
              "    <path d=\"M0 0h24v24H0V0z\" fill=\"none\"/>\n",
              "    <path d=\"M18.56 5.44l.94 2.06.94-2.06 2.06-.94-2.06-.94-.94-2.06-.94 2.06-2.06.94zm-11 1L8.5 8.5l.94-2.06 2.06-.94-2.06-.94L8.5 2.5l-.94 2.06-2.06.94zm10 10l.94 2.06.94-2.06 2.06-.94-2.06-.94-.94-2.06-.94 2.06-2.06.94z\"/><path d=\"M17.41 7.96l-1.37-1.37c-.4-.4-.92-.59-1.43-.59-.52 0-1.04.2-1.43.59L10.3 9.45l-7.72 7.72c-.78.78-.78 2.05 0 2.83L4 21.41c.39.39.9.59 1.41.59.51 0 1.02-.2 1.41-.59l7.78-7.78 2.81-2.81c.8-.78.8-2.07 0-2.86zM5.41 20L4 18.59l7.72-7.72 1.47 1.35L5.41 20z\"/>\n",
              "  </svg>\n",
              "      </button>\n",
              "      \n",
              "  <style>\n",
              "    .colab-df-container {\n",
              "      display:flex;\n",
              "      flex-wrap:wrap;\n",
              "      gap: 12px;\n",
              "    }\n",
              "\n",
              "    .colab-df-convert {\n",
              "      background-color: #E8F0FE;\n",
              "      border: none;\n",
              "      border-radius: 50%;\n",
              "      cursor: pointer;\n",
              "      display: none;\n",
              "      fill: #1967D2;\n",
              "      height: 32px;\n",
              "      padding: 0 0 0 0;\n",
              "      width: 32px;\n",
              "    }\n",
              "\n",
              "    .colab-df-convert:hover {\n",
              "      background-color: #E2EBFA;\n",
              "      box-shadow: 0px 1px 2px rgba(60, 64, 67, 0.3), 0px 1px 3px 1px rgba(60, 64, 67, 0.15);\n",
              "      fill: #174EA6;\n",
              "    }\n",
              "\n",
              "    [theme=dark] .colab-df-convert {\n",
              "      background-color: #3B4455;\n",
              "      fill: #D2E3FC;\n",
              "    }\n",
              "\n",
              "    [theme=dark] .colab-df-convert:hover {\n",
              "      background-color: #434B5C;\n",
              "      box-shadow: 0px 1px 3px 1px rgba(0, 0, 0, 0.15);\n",
              "      filter: drop-shadow(0px 1px 2px rgba(0, 0, 0, 0.3));\n",
              "      fill: #FFFFFF;\n",
              "    }\n",
              "  </style>\n",
              "\n",
              "      <script>\n",
              "        const buttonEl =\n",
              "          document.querySelector('#df-002991d5-8b94-4be8-bbf7-b54118422fe1 button.colab-df-convert');\n",
              "        buttonEl.style.display =\n",
              "          google.colab.kernel.accessAllowed ? 'block' : 'none';\n",
              "\n",
              "        async function convertToInteractive(key) {\n",
              "          const element = document.querySelector('#df-002991d5-8b94-4be8-bbf7-b54118422fe1');\n",
              "          const dataTable =\n",
              "            await google.colab.kernel.invokeFunction('convertToInteractive',\n",
              "                                                     [key], {});\n",
              "          if (!dataTable) return;\n",
              "\n",
              "          const docLinkHtml = 'Like what you see? Visit the ' +\n",
              "            '<a target=\"_blank\" href=https://colab.research.google.com/notebooks/data_table.ipynb>data table notebook</a>'\n",
              "            + ' to learn more about interactive tables.';\n",
              "          element.innerHTML = '';\n",
              "          dataTable['output_type'] = 'display_data';\n",
              "          await google.colab.output.renderOutput(dataTable, element);\n",
              "          const docLink = document.createElement('div');\n",
              "          docLink.innerHTML = docLinkHtml;\n",
              "          element.appendChild(docLink);\n",
              "        }\n",
              "      </script>\n",
              "    </div>\n",
              "  </div>\n",
              "  "
            ]
          },
          "metadata": {},
          "execution_count": 162
        }
      ]
    },
    {
      "cell_type": "markdown",
      "source": [
        "###HANDLE DUPLICATE DATA"
      ],
      "metadata": {
        "id": "y309qpU-CWaV"
      }
    },
    {
      "cell_type": "code",
      "source": [
        "# Cek data duplikat\n",
        "df.duplicated().sum()"
      ],
      "metadata": {
        "colab": {
          "base_uri": "https://localhost:8080/"
        },
        "id": "vAK9-cW5A8_G",
        "outputId": "32341076-ddf6-4c1d-ad89-bb1f01d35656"
      },
      "execution_count": null,
      "outputs": [
        {
          "output_type": "execute_result",
          "data": {
            "text/plain": [
              "0"
            ]
          },
          "metadata": {},
          "execution_count": 163
        }
      ]
    },
    {
      "cell_type": "markdown",
      "source": [
        "###HANDLE MISSING VALUE"
      ],
      "metadata": {
        "id": "pFxdfW2vCNSc"
      }
    },
    {
      "cell_type": "code",
      "source": [
        "# Missing value heatmap\n",
        "sns.heatmap(df.isnull(), cbar=False);"
      ],
      "metadata": {
        "colab": {
          "base_uri": "https://localhost:8080/",
          "height": 313
        },
        "id": "ZrEAaexhBIZh",
        "outputId": "237b1f04-ddcf-46b8-d32c-0a225f0fcee6"
      },
      "execution_count": null,
      "outputs": [
        {
          "output_type": "display_data",
          "data": {
            "text/plain": [
              "<Figure size 432x288 with 1 Axes>"
            ],
            "image/png": "[encoded data removed]"
          },
          "metadata": {
            "needs_background": "light"
          }
        }
      ]
    },
    {
      "cell_type": "code",
      "source": [
        "na=df.isna().sum()\n",
        "na"
      ],
      "metadata": {
        "colab": {
          "base_uri": "https://localhost:8080/"
        },
        "id": "L_B-qEkYCKS8",
        "outputId": "c531a8ce-6b89-4dc6-da0d-a6bd387cbfaf"
      },
      "execution_count": null,
      "outputs": [
        {
          "output_type": "execute_result",
          "data": {
            "text/plain": [
              "dteday        0\n",
              "hum           0\n",
              "weathersit    0\n",
              "holiday       0\n",
              "season        0\n",
              "atemp         0\n",
              "temp          0\n",
              "hr            0\n",
              "casual        0\n",
              "registered    0\n",
              "cnt           0\n",
              "month         0\n",
              "year          0\n",
              "dayname       0\n",
              "dtype: int64"
            ]
          },
          "metadata": {},
          "execution_count": 165
        }
      ]
    },
    {
      "cell_type": "markdown",
      "source": [
        "#####tidak ada missing value pada dataset bike sharing"
      ],
      "metadata": {
        "id": "vu_4Sg7iBloj"
      }
    },
    {
      "cell_type": "markdown",
      "source": [
        "###Melakukan penyesuaian data"
      ],
      "metadata": {
        "id": "yq_yj8IHlGWx"
      }
    },
    {
      "cell_type": "code",
      "source": [
        "rep={1:\"winter\",2:\"spring\",3:\"summer\",4:\"Autumn\"}\n",
        "df['season']=df['season'].replace(rep)\n",
        "df.season.unique()"
      ],
      "metadata": {
        "colab": {
          "base_uri": "https://localhost:8080/"
        },
        "id": "x-5aeBPglDf8",
        "outputId": "e413e250-b5cd-4147-e909-3013860644b2"
      },
      "execution_count": null,
      "outputs": [
        {
          "output_type": "execute_result",
          "data": {
            "text/plain": [
              "array(['Autumn', 'spring', 'summer', 'winter'], dtype=object)"
            ]
          },
          "metadata": {},
          "execution_count": 166
        }
      ]
    },
    {
      "cell_type": "code",
      "source": [
        "rep={1:\"clear\",2:\"mist\",3:\"light rain\",4:\"heavy rain\"}\n",
        "df['weathersit']=df['weathersit'].replace(rep)\n",
        "df.weathersit.unique()"
      ],
      "metadata": {
        "colab": {
          "base_uri": "https://localhost:8080/"
        },
        "id": "o_4dCNTZnOVO",
        "outputId": "843bb0b7-40b5-4296-dedc-28af55994ebd"
      },
      "execution_count": null,
      "outputs": [
        {
          "output_type": "execute_result",
          "data": {
            "text/plain": [
              "array(['clear', 'mist', 'light rain', 'heavy rain'], dtype=object)"
            ]
          },
          "metadata": {},
          "execution_count": 167
        }
      ]
    },
    {
      "cell_type": "code",
      "source": [
        "rep={1:\"tue\",2:\"wed\",3:\"thu\",4:\"fri\",5:\"sat\",6:\"sun\",0:\"mon\"}\n",
        "df['dayname']=df['dayname'].replace(rep)\n",
        "df.dayname.unique()"
      ],
      "metadata": {
        "colab": {
          "base_uri": "https://localhost:8080/"
        },
        "id": "2mxCqNHpojSd",
        "outputId": "50ccdbfa-b050-4d92-da70-61ad9faa40e7"
      },
      "execution_count": null,
      "outputs": [
        {
          "output_type": "execute_result",
          "data": {
            "text/plain": [
              "array(['fri', 'sun', 'wed', 'sat', 'tue', 'mon', 'thu'], dtype=object)"
            ]
          },
          "metadata": {},
          "execution_count": 168
        }
      ]
    },
    {
      "cell_type": "markdown",
      "source": [
        "###CEK OUTLIERS"
      ],
      "metadata": {
        "id": "rQac01e7s5H0"
      }
    },
    {
      "cell_type": "code",
      "source": [
        "def outliers(data):\n",
        "    Q1 = data.quantile(0.25)\n",
        "    Q3 = data.quantile(0.75)\n",
        "    IQR = Q3 - Q1\n",
        "    batas = IQR*1.5\n",
        "    print(f'IQR: {IQR}')\n",
        "\n",
        "    batas_bawah = Q1 - batas\n",
        "    batas_atas = Q3 + batas\n",
        "    print(f'batas_bawah: {batas_bawah}')\n",
        "    print(f'batas_atas: {batas_atas}')  "
      ],
      "metadata": {
        "id": "9dLVQJX3s7-U"
      },
      "execution_count": null,
      "outputs": []
    },
    {
      "cell_type": "code",
      "source": [
        "#HUMIDITY\n",
        "outliers(df['hum'])"
      ],
      "metadata": {
        "colab": {
          "base_uri": "https://localhost:8080/"
        },
        "id": "n-gkWccAtWAo",
        "outputId": "a91d05c2-921a-45da-9f06-eb115d1901bf"
      },
      "execution_count": null,
      "outputs": [
        {
          "output_type": "stream",
          "name": "stdout",
          "text": [
            "IQR: 0.31000000000000005\n",
            "batas_bawah: 0.004999999999999893\n",
            "batas_atas: 1.245\n"
          ]
        }
      ]
    },
    {
      "cell_type": "code",
      "source": [
        "sns.boxplot(df['hum'])\n",
        "plt.show()"
      ],
      "metadata": {
        "colab": {
          "base_uri": "https://localhost:8080/",
          "height": 279
        },
        "id": "Kvk-Zi6LtnXR",
        "outputId": "9de33605-e385-4924-c96f-e3d9f210deae"
      },
      "execution_count": null,
      "outputs": [
        {
          "output_type": "display_data",
          "data": {
            "text/plain": [
              "<Figure size 432x288 with 1 Axes>"
            ],
            "image/png": "[encoded data removed]"
          },
          "metadata": {
            "needs_background": "light"
          }
        }
      ]
    },
    {
      "cell_type": "code",
      "source": [
        "df[(df['hum'] > 1.245) | (df['hum'] < 0.004999999999999893)].count()['hum']"
      ],
      "metadata": {
        "colab": {
          "base_uri": "https://localhost:8080/"
        },
        "id": "JNwm0d2ruIKq",
        "outputId": "d1274ebf-d1f0-4f79-8a19-1993418690f4"
      },
      "execution_count": null,
      "outputs": [
        {
          "output_type": "execute_result",
          "data": {
            "text/plain": [
              "14"
            ]
          },
          "metadata": {},
          "execution_count": 172
        }
      ]
    },
    {
      "cell_type": "code",
      "source": [
        "#atemp\n",
        "outliers(df['atemp'])"
      ],
      "metadata": {
        "colab": {
          "base_uri": "https://localhost:8080/"
        },
        "id": "VDC-JheBtw88",
        "outputId": "9790d9e9-1e3d-49b6-808c-58765e5d0623"
      },
      "execution_count": null,
      "outputs": [
        {
          "output_type": "stream",
          "name": "stdout",
          "text": [
            "IQR: 0.2879\n",
            "batas_bawah: -0.09854999999999997\n",
            "batas_atas: 1.0530499999999998\n"
          ]
        }
      ]
    },
    {
      "cell_type": "code",
      "source": [
        "sns.boxplot(df['atemp'])\n",
        "plt.show()"
      ],
      "metadata": {
        "colab": {
          "base_uri": "https://localhost:8080/",
          "height": 279
        },
        "id": "MbChdQwdt2mW",
        "outputId": "70eca0c9-737e-41af-e74c-884dada25457"
      },
      "execution_count": null,
      "outputs": [
        {
          "output_type": "display_data",
          "data": {
            "text/plain": [
              "<Figure size 432x288 with 1 Axes>"
            ],
            "image/png": "[encoded data removed]"
          },
          "metadata": {
            "needs_background": "light"
          }
        }
      ]
    },
    {
      "cell_type": "code",
      "source": [
        "df[(df['atemp'] > 1.0530499999999998) | (df['atemp'] < -0.09854999999999997)].count()['atemp']"
      ],
      "metadata": {
        "colab": {
          "base_uri": "https://localhost:8080/"
        },
        "id": "x3tGO2oruPx7",
        "outputId": "a3bc6c6e-1920-425b-9066-8df7590550a7"
      },
      "execution_count": null,
      "outputs": [
        {
          "output_type": "execute_result",
          "data": {
            "text/plain": [
              "0"
            ]
          },
          "metadata": {},
          "execution_count": 175
        }
      ]
    },
    {
      "cell_type": "code",
      "source": [
        "#temp\n",
        "outliers(df['temp'])"
      ],
      "metadata": {
        "colab": {
          "base_uri": "https://localhost:8080/"
        },
        "id": "3tyE_YPKt6mV",
        "outputId": "cec7902c-548b-4fbe-f886-4fd30fee8f26"
      },
      "execution_count": null,
      "outputs": [
        {
          "output_type": "stream",
          "name": "stdout",
          "text": [
            "IQR: 0.32\n",
            "batas_bawah: -0.13999999999999996\n",
            "batas_atas: 1.1400000000000001\n"
          ]
        }
      ]
    },
    {
      "cell_type": "code",
      "source": [
        "sns.boxplot(df['temp'])\n",
        "plt.show()"
      ],
      "metadata": {
        "colab": {
          "base_uri": "https://localhost:8080/",
          "height": 279
        },
        "id": "pGEhgwsXt8do",
        "outputId": "c14c39eb-c878-4bee-ca87-87088b6393bf"
      },
      "execution_count": null,
      "outputs": [
        {
          "output_type": "display_data",
          "data": {
            "text/plain": [
              "<Figure size 432x288 with 1 Axes>"
            ],
            "image/png": "[encoded data removed]"
          },
          "metadata": {
            "needs_background": "light"
          }
        }
      ]
    },
    {
      "cell_type": "code",
      "source": [
        "df[(df['temp'] > 1.1400000000000001) | (df['temp'] < -0.13999999999999996)].count()['temp']"
      ],
      "metadata": {
        "colab": {
          "base_uri": "https://localhost:8080/"
        },
        "id": "cNvubhIVuUOP",
        "outputId": "5249a875-610c-411d-c1a3-8253bab35803"
      },
      "execution_count": null,
      "outputs": [
        {
          "output_type": "execute_result",
          "data": {
            "text/plain": [
              "0"
            ]
          },
          "metadata": {},
          "execution_count": 178
        }
      ]
    },
    {
      "cell_type": "code",
      "source": [
        "#cnt\n",
        "outliers(df['cnt'])"
      ],
      "metadata": {
        "colab": {
          "base_uri": "https://localhost:8080/"
        },
        "id": "YQyUM0Ejuz49",
        "outputId": "f9ceb673-1d89-4ea4-d926-ad525cb5c220"
      },
      "execution_count": null,
      "outputs": [
        {
          "output_type": "stream",
          "name": "stdout",
          "text": [
            "IQR: 242.0\n",
            "batas_bawah: -323.0\n",
            "batas_atas: 645.0\n"
          ]
        }
      ]
    },
    {
      "cell_type": "code",
      "source": [
        "sns.boxplot(df['cnt'])\n",
        "plt.show()"
      ],
      "metadata": {
        "colab": {
          "base_uri": "https://localhost:8080/",
          "height": 279
        },
        "id": "AqaraPW8u3Ac",
        "outputId": "08776f2f-681f-4481-ff54-159a6a61d154"
      },
      "execution_count": null,
      "outputs": [
        {
          "output_type": "display_data",
          "data": {
            "text/plain": [
              "<Figure size 432x288 with 1 Axes>"
            ],
            "image/png": "[encoded data removed]"
          },
          "metadata": {
            "needs_background": "light"
          }
        }
      ]
    },
    {
      "cell_type": "code",
      "source": [
        "df[(df['cnt'] > 645) | (df['cnt'] < -323.0)].count()['cnt']"
      ],
      "metadata": {
        "colab": {
          "base_uri": "https://localhost:8080/"
        },
        "id": "s3n3iHIeu5H0",
        "outputId": "b1ed6c89-bb95-49d0-f5e4-404f7ad17956"
      },
      "execution_count": null,
      "outputs": [
        {
          "output_type": "execute_result",
          "data": {
            "text/plain": [
              "338"
            ]
          },
          "metadata": {},
          "execution_count": 181
        }
      ]
    },
    {
      "cell_type": "code",
      "source": [
        "# # Melakukan filtering pada data\n",
        "df = df[(df['cnt'] <= 645.0) & (df['cnt'] >= -323.0)]\n",
        "df = df[(df['hum'] <= 1.245) & (df['hum'] >= 0.004999999999999893)]\n",
        "df"
      ],
      "metadata": {
        "colab": {
          "base_uri": "https://localhost:8080/",
          "height": 424
        },
        "id": "_I9O6yHB_Oxu",
        "outputId": "5eece286-b563-41a1-8308-fdf757dc4e9e"
      },
      "execution_count": null,
      "outputs": [
        {
          "output_type": "execute_result",
          "data": {
            "text/plain": [
              "           dteday   hum weathersit  holiday  season   atemp  temp  hr  casual  \\\n",
              "0      2011-12-09  0.62      clear        0  Autumn  0.3485  0.36  16      24   \n",
              "1      2012-06-17  0.64      clear        0  spring  0.5152  0.54   4       2   \n",
              "2      2011-06-15  0.53      clear        0  spring  0.6212  0.62  23      17   \n",
              "3      2012-03-31  0.87       mist        0  spring  0.3485  0.36   8      19   \n",
              "5      2012-10-01  0.72      clear        0  Autumn  0.4545  0.46   0       6   \n",
              "...           ...   ...        ...      ...     ...     ...   ...  ..     ...   \n",
              "12160  2012-01-25  0.75      clear        0  winter  0.2273  0.24   7      14   \n",
              "12161  2012-07-06  0.62      clear        0  summer  0.7424  0.78   0      39   \n",
              "12162  2012-02-20  0.60       mist        1  winter  0.2121  0.24   5       0   \n",
              "12163  2012-03-31  0.77       mist        0  spring  0.4242  0.42   2      14   \n",
              "12164  2011-04-28  0.47      clear        0  spring  0.6212  0.64  18      44   \n",
              "\n",
              "       registered  cnt  month  year dayname  \n",
              "0             226  250     12  2011     fri  \n",
              "1              16   18      6  2012     sun  \n",
              "2              90  107      6  2011     wed  \n",
              "3             126  145      3  2012     sat  \n",
              "5              39   45     10  2012     mon  \n",
              "...           ...  ...    ...   ...     ...  \n",
              "12160         243  257      1  2012     wed  \n",
              "12161          63  102      7  2012     fri  \n",
              "12162           6    6      2  2012     mon  \n",
              "12163          55   69      3  2012     sat  \n",
              "12164         486  530      4  2011     thu  \n",
              "\n",
              "[11813 rows x 14 columns]"
            ],
            "text/html": [
              "\n",
              "  <div id=\"df-8371fe8f-b94f-419a-ac62-6a4e67964a86\">\n",
              "    <div class=\"colab-df-container\">\n",
              "      <div>\n",
              "<style scoped>\n",
              "    .dataframe tbody tr th:only-of-type {\n",
              "        vertical-align: middle;\n",
              "    }\n",
              "\n",
              "    .dataframe tbody tr th {\n",
              "        vertical-align: top;\n",
              "    }\n",
              "\n",
              "    .dataframe thead th {\n",
              "        text-align: right;\n",
              "    }\n",
              "</style>\n",
              "<table border=\"1\" class=\"dataframe\">\n",
              "  <thead>\n",
              "    <tr style=\"text-align: right;\">\n",
              "      <th></th>\n",
              "      <th>dteday</th>\n",
              "      <th>hum</th>\n",
              "      <th>weathersit</th>\n",
              "      <th>holiday</th>\n",
              "      <th>season</th>\n",
              "      <th>atemp</th>\n",
              "      <th>temp</th>\n",
              "      <th>hr</th>\n",
              "      <th>casual</th>\n",
              "      <th>registered</th>\n",
              "      <th>cnt</th>\n",
              "      <th>month</th>\n",
              "      <th>year</th>\n",
              "      <th>dayname</th>\n",
              "    </tr>\n",
              "  </thead>\n",
              "  <tbody>\n",
              "    <tr>\n",
              "      <th>0</th>\n",
              "      <td>2011-12-09</td>\n",
              "      <td>0.62</td>\n",
              "      <td>clear</td>\n",
              "      <td>0</td>\n",
              "      <td>Autumn</td>\n",
              "      <td>0.3485</td>\n",
              "      <td>0.36</td>\n",
              "      <td>16</td>\n",
              "      <td>24</td>\n",
              "      <td>226</td>\n",
              "      <td>250</td>\n",
              "      <td>12</td>\n",
              "      <td>2011</td>\n",
              "      <td>fri</td>\n",
              "    </tr>\n",
              "    <tr>\n",
              "      <th>1</th>\n",
              "      <td>2012-06-17</td>\n",
              "      <td>0.64</td>\n",
              "      <td>clear</td>\n",
              "      <td>0</td>\n",
              "      <td>spring</td>\n",
              "      <td>0.5152</td>\n",
              "      <td>0.54</td>\n",
              "      <td>4</td>\n",
              "      <td>2</td>\n",
              "      <td>16</td>\n",
              "      <td>18</td>\n",
              "      <td>6</td>\n",
              "      <td>2012</td>\n",
              "      <td>sun</td>\n",
              "    </tr>\n",
              "    <tr>\n",
              "      <th>2</th>\n",
              "      <td>2011-06-15</td>\n",
              "      <td>0.53</td>\n",
              "      <td>clear</td>\n",
              "      <td>0</td>\n",
              "      <td>spring</td>\n",
              "      <td>0.6212</td>\n",
              "      <td>0.62</td>\n",
              "      <td>23</td>\n",
              "      <td>17</td>\n",
              "      <td>90</td>\n",
              "      <td>107</td>\n",
              "      <td>6</td>\n",
              "      <td>2011</td>\n",
              "      <td>wed</td>\n",
              "    </tr>\n",
              "    <tr>\n",
              "      <th>3</th>\n",
              "      <td>2012-03-31</td>\n",
              "      <td>0.87</td>\n",
              "      <td>mist</td>\n",
              "      <td>0</td>\n",
              "      <td>spring</td>\n",
              "      <td>0.3485</td>\n",
              "      <td>0.36</td>\n",
              "      <td>8</td>\n",
              "      <td>19</td>\n",
              "      <td>126</td>\n",
              "      <td>145</td>\n",
              "      <td>3</td>\n",
              "      <td>2012</td>\n",
              "      <td>sat</td>\n",
              "    </tr>\n",
              "    <tr>\n",
              "      <th>5</th>\n",
              "      <td>2012-10-01</td>\n",
              "      <td>0.72</td>\n",
              "      <td>clear</td>\n",
              "      <td>0</td>\n",
              "      <td>Autumn</td>\n",
              "      <td>0.4545</td>\n",
              "      <td>0.46</td>\n",
              "      <td>0</td>\n",
              "      <td>6</td>\n",
              "      <td>39</td>\n",
              "      <td>45</td>\n",
              "      <td>10</td>\n",
              "      <td>2012</td>\n",
              "      <td>mon</td>\n",
              "    </tr>\n",
              "    <tr>\n",
              "      <th>...</th>\n",
              "      <td>...</td>\n",
              "      <td>...</td>\n",
              "      <td>...</td>\n",
              "      <td>...</td>\n",
              "      <td>...</td>\n",
              "      <td>...</td>\n",
              "      <td>...</td>\n",
              "      <td>...</td>\n",
              "      <td>...</td>\n",
              "      <td>...</td>\n",
              "      <td>...</td>\n",
              "      <td>...</td>\n",
              "      <td>...</td>\n",
              "      <td>...</td>\n",
              "    </tr>\n",
              "    <tr>\n",
              "      <th>12160</th>\n",
              "      <td>2012-01-25</td>\n",
              "      <td>0.75</td>\n",
              "      <td>clear</td>\n",
              "      <td>0</td>\n",
              "      <td>winter</td>\n",
              "      <td>0.2273</td>\n",
              "      <td>0.24</td>\n",
              "      <td>7</td>\n",
              "      <td>14</td>\n",
              "      <td>243</td>\n",
              "      <td>257</td>\n",
              "      <td>1</td>\n",
              "      <td>2012</td>\n",
              "      <td>wed</td>\n",
              "    </tr>\n",
              "    <tr>\n",
              "      <th>12161</th>\n",
              "      <td>2012-07-06</td>\n",
              "      <td>0.62</td>\n",
              "      <td>clear</td>\n",
              "      <td>0</td>\n",
              "      <td>summer</td>\n",
              "      <td>0.7424</td>\n",
              "      <td>0.78</td>\n",
              "      <td>0</td>\n",
              "      <td>39</td>\n",
              "      <td>63</td>\n",
              "      <td>102</td>\n",
              "      <td>7</td>\n",
              "      <td>2012</td>\n",
              "      <td>fri</td>\n",
              "    </tr>\n",
              "    <tr>\n",
              "      <th>12162</th>\n",
              "      <td>2012-02-20</td>\n",
              "      <td>0.60</td>\n",
              "      <td>mist</td>\n",
              "      <td>1</td>\n",
              "      <td>winter</td>\n",
              "      <td>0.2121</td>\n",
              "      <td>0.24</td>\n",
              "      <td>5</td>\n",
              "      <td>0</td>\n",
              "      <td>6</td>\n",
              "      <td>6</td>\n",
              "      <td>2</td>\n",
              "      <td>2012</td>\n",
              "      <td>mon</td>\n",
              "    </tr>\n",
              "    <tr>\n",
              "      <th>12163</th>\n",
              "      <td>2012-03-31</td>\n",
              "      <td>0.77</td>\n",
              "      <td>mist</td>\n",
              "      <td>0</td>\n",
              "      <td>spring</td>\n",
              "      <td>0.4242</td>\n",
              "      <td>0.42</td>\n",
              "      <td>2</td>\n",
              "      <td>14</td>\n",
              "      <td>55</td>\n",
              "      <td>69</td>\n",
              "      <td>3</td>\n",
              "      <td>2012</td>\n",
              "      <td>sat</td>\n",
              "    </tr>\n",
              "    <tr>\n",
              "      <th>12164</th>\n",
              "      <td>2011-04-28</td>\n",
              "      <td>0.47</td>\n",
              "      <td>clear</td>\n",
              "      <td>0</td>\n",
              "      <td>spring</td>\n",
              "      <td>0.6212</td>\n",
              "      <td>0.64</td>\n",
              "      <td>18</td>\n",
              "      <td>44</td>\n",
              "      <td>486</td>\n",
              "      <td>530</td>\n",
              "      <td>4</td>\n",
              "      <td>2011</td>\n",
              "      <td>thu</td>\n",
              "    </tr>\n",
              "  </tbody>\n",
              "</table>\n",
              "<p>11813 rows × 14 columns</p>\n",
              "</div>\n",
              "      <button class=\"colab-df-convert\" onclick=\"convertToInteractive('df-8371fe8f-b94f-419a-ac62-6a4e67964a86')\"\n",
              "              title=\"Convert this dataframe to an interactive table.\"\n",
              "              style=\"display:none;\">\n",
              "        \n",
              "  <svg xmlns=\"http://www.w3.org/2000/svg\" height=\"24px\"viewBox=\"0 0 24 24\"\n",
              "       width=\"24px\">\n",
              "    <path d=\"M0 0h24v24H0V0z\" fill=\"none\"/>\n",
              "    <path d=\"M18.56 5.44l.94 2.06.94-2.06 2.06-.94-2.06-.94-.94-2.06-.94 2.06-2.06.94zm-11 1L8.5 8.5l.94-2.06 2.06-.94-2.06-.94L8.5 2.5l-.94 2.06-2.06.94zm10 10l.94 2.06.94-2.06 2.06-.94-2.06-.94-.94-2.06-.94 2.06-2.06.94z\"/><path d=\"M17.41 7.96l-1.37-1.37c-.4-.4-.92-.59-1.43-.59-.52 0-1.04.2-1.43.59L10.3 9.45l-7.72 7.72c-.78.78-.78 2.05 0 2.83L4 21.41c.39.39.9.59 1.41.59.51 0 1.02-.2 1.41-.59l7.78-7.78 2.81-2.81c.8-.78.8-2.07 0-2.86zM5.41 20L4 18.59l7.72-7.72 1.47 1.35L5.41 20z\"/>\n",
              "  </svg>\n",
              "      </button>\n",
              "      \n",
              "  <style>\n",
              "    .colab-df-container {\n",
              "      display:flex;\n",
              "      flex-wrap:wrap;\n",
              "      gap: 12px;\n",
              "    }\n",
              "\n",
              "    .colab-df-convert {\n",
              "      background-color: #E8F0FE;\n",
              "      border: none;\n",
              "      border-radius: 50%;\n",
              "      cursor: pointer;\n",
              "      display: none;\n",
              "      fill: #1967D2;\n",
              "      height: 32px;\n",
              "      padding: 0 0 0 0;\n",
              "      width: 32px;\n",
              "    }\n",
              "\n",
              "    .colab-df-convert:hover {\n",
              "      background-color: #E2EBFA;\n",
              "      box-shadow: 0px 1px 2px rgba(60, 64, 67, 0.3), 0px 1px 3px 1px rgba(60, 64, 67, 0.15);\n",
              "      fill: #174EA6;\n",
              "    }\n",
              "\n",
              "    [theme=dark] .colab-df-convert {\n",
              "      background-color: #3B4455;\n",
              "      fill: #D2E3FC;\n",
              "    }\n",
              "\n",
              "    [theme=dark] .colab-df-convert:hover {\n",
              "      background-color: #434B5C;\n",
              "      box-shadow: 0px 1px 3px 1px rgba(0, 0, 0, 0.15);\n",
              "      filter: drop-shadow(0px 1px 2px rgba(0, 0, 0, 0.3));\n",
              "      fill: #FFFFFF;\n",
              "    }\n",
              "  </style>\n",
              "\n",
              "      <script>\n",
              "        const buttonEl =\n",
              "          document.querySelector('#df-8371fe8f-b94f-419a-ac62-6a4e67964a86 button.colab-df-convert');\n",
              "        buttonEl.style.display =\n",
              "          google.colab.kernel.accessAllowed ? 'block' : 'none';\n",
              "\n",
              "        async function convertToInteractive(key) {\n",
              "          const element = document.querySelector('#df-8371fe8f-b94f-419a-ac62-6a4e67964a86');\n",
              "          const dataTable =\n",
              "            await google.colab.kernel.invokeFunction('convertToInteractive',\n",
              "                                                     [key], {});\n",
              "          if (!dataTable) return;\n",
              "\n",
              "          const docLinkHtml = 'Like what you see? Visit the ' +\n",
              "            '<a target=\"_blank\" href=https://colab.research.google.com/notebooks/data_table.ipynb>data table notebook</a>'\n",
              "            + ' to learn more about interactive tables.';\n",
              "          element.innerHTML = '';\n",
              "          dataTable['output_type'] = 'display_data';\n",
              "          await google.colab.output.renderOutput(dataTable, element);\n",
              "          const docLink = document.createElement('div');\n",
              "          docLink.innerHTML = docLinkHtml;\n",
              "          element.appendChild(docLink);\n",
              "        }\n",
              "      </script>\n",
              "    </div>\n",
              "  </div>\n",
              "  "
            ]
          },
          "metadata": {},
          "execution_count": 182
        }
      ]
    },
    {
      "cell_type": "markdown",
      "source": [
        "###DROP FEATURE SELECTION"
      ],
      "metadata": {
        "id": "JPxAAtKNoVOP"
      }
    },
    {
      "cell_type": "code",
      "source": [
        "df = df.drop(columns=['dteday','casual','registered'])\n",
        "df"
      ],
      "metadata": {
        "colab": {
          "base_uri": "https://localhost:8080/",
          "height": 424
        },
        "id": "ge4dxZDXn5Di",
        "outputId": "e1198ec5-bb17-41f6-b4fc-0b7084cb1e58"
      },
      "execution_count": null,
      "outputs": [
        {
          "output_type": "execute_result",
          "data": {
            "text/plain": [
              "        hum weathersit  holiday  season   atemp  temp  hr  cnt  month  year  \\\n",
              "0      0.62      clear        0  Autumn  0.3485  0.36  16  250     12  2011   \n",
              "1      0.64      clear        0  spring  0.5152  0.54   4   18      6  2012   \n",
              "2      0.53      clear        0  spring  0.6212  0.62  23  107      6  2011   \n",
              "3      0.87       mist        0  spring  0.3485  0.36   8  145      3  2012   \n",
              "5      0.72      clear        0  Autumn  0.4545  0.46   0   45     10  2012   \n",
              "...     ...        ...      ...     ...     ...   ...  ..  ...    ...   ...   \n",
              "12160  0.75      clear        0  winter  0.2273  0.24   7  257      1  2012   \n",
              "12161  0.62      clear        0  summer  0.7424  0.78   0  102      7  2012   \n",
              "12162  0.60       mist        1  winter  0.2121  0.24   5    6      2  2012   \n",
              "12163  0.77       mist        0  spring  0.4242  0.42   2   69      3  2012   \n",
              "12164  0.47      clear        0  spring  0.6212  0.64  18  530      4  2011   \n",
              "\n",
              "      dayname  \n",
              "0         fri  \n",
              "1         sun  \n",
              "2         wed  \n",
              "3         sat  \n",
              "5         mon  \n",
              "...       ...  \n",
              "12160     wed  \n",
              "12161     fri  \n",
              "12162     mon  \n",
              "12163     sat  \n",
              "12164     thu  \n",
              "\n",
              "[11813 rows x 11 columns]"
            ],
            "text/html": [
              "\n",
              "  <div id=\"df-af61961b-6033-4db9-857e-e9f68d03eb24\">\n",
              "    <div class=\"colab-df-container\">\n",
              "      <div>\n",
              "<style scoped>\n",
              "    .dataframe tbody tr th:only-of-type {\n",
              "        vertical-align: middle;\n",
              "    }\n",
              "\n",
              "    .dataframe tbody tr th {\n",
              "        vertical-align: top;\n",
              "    }\n",
              "\n",
              "    .dataframe thead th {\n",
              "        text-align: right;\n",
              "    }\n",
              "</style>\n",
              "<table border=\"1\" class=\"dataframe\">\n",
              "  <thead>\n",
              "    <tr style=\"text-align: right;\">\n",
              "      <th></th>\n",
              "      <th>hum</th>\n",
              "      <th>weathersit</th>\n",
              "      <th>holiday</th>\n",
              "      <th>season</th>\n",
              "      <th>atemp</th>\n",
              "      <th>temp</th>\n",
              "      <th>hr</th>\n",
              "      <th>cnt</th>\n",
              "      <th>month</th>\n",
              "      <th>year</th>\n",
              "      <th>dayname</th>\n",
              "    </tr>\n",
              "  </thead>\n",
              "  <tbody>\n",
              "    <tr>\n",
              "      <th>0</th>\n",
              "      <td>0.62</td>\n",
              "      <td>clear</td>\n",
              "      <td>0</td>\n",
              "      <td>Autumn</td>\n",
              "      <td>0.3485</td>\n",
              "      <td>0.36</td>\n",
              "      <td>16</td>\n",
              "      <td>250</td>\n",
              "      <td>12</td>\n",
              "      <td>2011</td>\n",
              "      <td>fri</td>\n",
              "    </tr>\n",
              "    <tr>\n",
              "      <th>1</th>\n",
              "      <td>0.64</td>\n",
              "      <td>clear</td>\n",
              "      <td>0</td>\n",
              "      <td>spring</td>\n",
              "      <td>0.5152</td>\n",
              "      <td>0.54</td>\n",
              "      <td>4</td>\n",
              "      <td>18</td>\n",
              "      <td>6</td>\n",
              "      <td>2012</td>\n",
              "      <td>sun</td>\n",
              "    </tr>\n",
              "    <tr>\n",
              "      <th>2</th>\n",
              "      <td>0.53</td>\n",
              "      <td>clear</td>\n",
              "      <td>0</td>\n",
              "      <td>spring</td>\n",
              "      <td>0.6212</td>\n",
              "      <td>0.62</td>\n",
              "      <td>23</td>\n",
              "      <td>107</td>\n",
              "      <td>6</td>\n",
              "      <td>2011</td>\n",
              "      <td>wed</td>\n",
              "    </tr>\n",
              "    <tr>\n",
              "      <th>3</th>\n",
              "      <td>0.87</td>\n",
              "      <td>mist</td>\n",
              "      <td>0</td>\n",
              "      <td>spring</td>\n",
              "      <td>0.3485</td>\n",
              "      <td>0.36</td>\n",
              "      <td>8</td>\n",
              "      <td>145</td>\n",
              "      <td>3</td>\n",
              "      <td>2012</td>\n",
              "      <td>sat</td>\n",
              "    </tr>\n",
              "    <tr>\n",
              "      <th>5</th>\n",
              "      <td>0.72</td>\n",
              "      <td>clear</td>\n",
              "      <td>0</td>\n",
              "      <td>Autumn</td>\n",
              "      <td>0.4545</td>\n",
              "      <td>0.46</td>\n",
              "      <td>0</td>\n",
              "      <td>45</td>\n",
              "      <td>10</td>\n",
              "      <td>2012</td>\n",
              "      <td>mon</td>\n",
              "    </tr>\n",
              "    <tr>\n",
              "      <th>...</th>\n",
              "      <td>...</td>\n",
              "      <td>...</td>\n",
              "      <td>...</td>\n",
              "      <td>...</td>\n",
              "      <td>...</td>\n",
              "      <td>...</td>\n",
              "      <td>...</td>\n",
              "      <td>...</td>\n",
              "      <td>...</td>\n",
              "      <td>...</td>\n",
              "      <td>...</td>\n",
              "    </tr>\n",
              "    <tr>\n",
              "      <th>12160</th>\n",
              "      <td>0.75</td>\n",
              "      <td>clear</td>\n",
              "      <td>0</td>\n",
              "      <td>winter</td>\n",
              "      <td>0.2273</td>\n",
              "      <td>0.24</td>\n",
              "      <td>7</td>\n",
              "      <td>257</td>\n",
              "      <td>1</td>\n",
              "      <td>2012</td>\n",
              "      <td>wed</td>\n",
              "    </tr>\n",
              "    <tr>\n",
              "      <th>12161</th>\n",
              "      <td>0.62</td>\n",
              "      <td>clear</td>\n",
              "      <td>0</td>\n",
              "      <td>summer</td>\n",
              "      <td>0.7424</td>\n",
              "      <td>0.78</td>\n",
              "      <td>0</td>\n",
              "      <td>102</td>\n",
              "      <td>7</td>\n",
              "      <td>2012</td>\n",
              "      <td>fri</td>\n",
              "    </tr>\n",
              "    <tr>\n",
              "      <th>12162</th>\n",
              "      <td>0.60</td>\n",
              "      <td>mist</td>\n",
              "      <td>1</td>\n",
              "      <td>winter</td>\n",
              "      <td>0.2121</td>\n",
              "      <td>0.24</td>\n",
              "      <td>5</td>\n",
              "      <td>6</td>\n",
              "      <td>2</td>\n",
              "      <td>2012</td>\n",
              "      <td>mon</td>\n",
              "    </tr>\n",
              "    <tr>\n",
              "      <th>12163</th>\n",
              "      <td>0.77</td>\n",
              "      <td>mist</td>\n",
              "      <td>0</td>\n",
              "      <td>spring</td>\n",
              "      <td>0.4242</td>\n",
              "      <td>0.42</td>\n",
              "      <td>2</td>\n",
              "      <td>69</td>\n",
              "      <td>3</td>\n",
              "      <td>2012</td>\n",
              "      <td>sat</td>\n",
              "    </tr>\n",
              "    <tr>\n",
              "      <th>12164</th>\n",
              "      <td>0.47</td>\n",
              "      <td>clear</td>\n",
              "      <td>0</td>\n",
              "      <td>spring</td>\n",
              "      <td>0.6212</td>\n",
              "      <td>0.64</td>\n",
              "      <td>18</td>\n",
              "      <td>530</td>\n",
              "      <td>4</td>\n",
              "      <td>2011</td>\n",
              "      <td>thu</td>\n",
              "    </tr>\n",
              "  </tbody>\n",
              "</table>\n",
              "<p>11813 rows × 11 columns</p>\n",
              "</div>\n",
              "      <button class=\"colab-df-convert\" onclick=\"convertToInteractive('df-af61961b-6033-4db9-857e-e9f68d03eb24')\"\n",
              "              title=\"Convert this dataframe to an interactive table.\"\n",
              "              style=\"display:none;\">\n",
              "        \n",
              "  <svg xmlns=\"http://www.w3.org/2000/svg\" height=\"24px\"viewBox=\"0 0 24 24\"\n",
              "       width=\"24px\">\n",
              "    <path d=\"M0 0h24v24H0V0z\" fill=\"none\"/>\n",
              "    <path d=\"M18.56 5.44l.94 2.06.94-2.06 2.06-.94-2.06-.94-.94-2.06-.94 2.06-2.06.94zm-11 1L8.5 8.5l.94-2.06 2.06-.94-2.06-.94L8.5 2.5l-.94 2.06-2.06.94zm10 10l.94 2.06.94-2.06 2.06-.94-2.06-.94-.94-2.06-.94 2.06-2.06.94z\"/><path d=\"M17.41 7.96l-1.37-1.37c-.4-.4-.92-.59-1.43-.59-.52 0-1.04.2-1.43.59L10.3 9.45l-7.72 7.72c-.78.78-.78 2.05 0 2.83L4 21.41c.39.39.9.59 1.41.59.51 0 1.02-.2 1.41-.59l7.78-7.78 2.81-2.81c.8-.78.8-2.07 0-2.86zM5.41 20L4 18.59l7.72-7.72 1.47 1.35L5.41 20z\"/>\n",
              "  </svg>\n",
              "      </button>\n",
              "      \n",
              "  <style>\n",
              "    .colab-df-container {\n",
              "      display:flex;\n",
              "      flex-wrap:wrap;\n",
              "      gap: 12px;\n",
              "    }\n",
              "\n",
              "    .colab-df-convert {\n",
              "      background-color: #E8F0FE;\n",
              "      border: none;\n",
              "      border-radius: 50%;\n",
              "      cursor: pointer;\n",
              "      display: none;\n",
              "      fill: #1967D2;\n",
              "      height: 32px;\n",
              "      padding: 0 0 0 0;\n",
              "      width: 32px;\n",
              "    }\n",
              "\n",
              "    .colab-df-convert:hover {\n",
              "      background-color: #E2EBFA;\n",
              "      box-shadow: 0px 1px 2px rgba(60, 64, 67, 0.3), 0px 1px 3px 1px rgba(60, 64, 67, 0.15);\n",
              "      fill: #174EA6;\n",
              "    }\n",
              "\n",
              "    [theme=dark] .colab-df-convert {\n",
              "      background-color: #3B4455;\n",
              "      fill: #D2E3FC;\n",
              "    }\n",
              "\n",
              "    [theme=dark] .colab-df-convert:hover {\n",
              "      background-color: #434B5C;\n",
              "      box-shadow: 0px 1px 3px 1px rgba(0, 0, 0, 0.15);\n",
              "      filter: drop-shadow(0px 1px 2px rgba(0, 0, 0, 0.3));\n",
              "      fill: #FFFFFF;\n",
              "    }\n",
              "  </style>\n",
              "\n",
              "      <script>\n",
              "        const buttonEl =\n",
              "          document.querySelector('#df-af61961b-6033-4db9-857e-e9f68d03eb24 button.colab-df-convert');\n",
              "        buttonEl.style.display =\n",
              "          google.colab.kernel.accessAllowed ? 'block' : 'none';\n",
              "\n",
              "        async function convertToInteractive(key) {\n",
              "          const element = document.querySelector('#df-af61961b-6033-4db9-857e-e9f68d03eb24');\n",
              "          const dataTable =\n",
              "            await google.colab.kernel.invokeFunction('convertToInteractive',\n",
              "                                                     [key], {});\n",
              "          if (!dataTable) return;\n",
              "\n",
              "          const docLinkHtml = 'Like what you see? Visit the ' +\n",
              "            '<a target=\"_blank\" href=https://colab.research.google.com/notebooks/data_table.ipynb>data table notebook</a>'\n",
              "            + ' to learn more about interactive tables.';\n",
              "          element.innerHTML = '';\n",
              "          dataTable['output_type'] = 'display_data';\n",
              "          await google.colab.output.renderOutput(dataTable, element);\n",
              "          const docLink = document.createElement('div');\n",
              "          docLink.innerHTML = docLinkHtml;\n",
              "          element.appendChild(docLink);\n",
              "        }\n",
              "      </script>\n",
              "    </div>\n",
              "  </div>\n",
              "  "
            ]
          },
          "metadata": {},
          "execution_count": 183
        }
      ]
    },
    {
      "cell_type": "markdown",
      "source": [
        "###EDA"
      ],
      "metadata": {
        "id": "HJ4DNsG7-bk7"
      }
    },
    {
      "cell_type": "code",
      "source": [
        "df_hol = df['holiday'].value_counts()\n",
        "df_sea = df['season'].value_counts()\n",
        "df_wea = df['weathersit'].value_counts()\n",
        "df_hr = df['hr'].value_counts()"
      ],
      "metadata": {
        "id": "xRe_DkAwFbB_"
      },
      "execution_count": null,
      "outputs": []
    },
    {
      "cell_type": "code",
      "source": [
        "plt.figure(figsize = (10,8))\n",
        "plt.pie(x = df_hol, autopct = '%.2f')\n",
        "plt.title('Customer Diagram by Holiday', color = 'white' )\n",
        "plt.legend(df_hol.index)\n",
        "\n",
        "plt.figure(figsize = (10,8))\n",
        "plt.pie(x = df_sea, autopct = '%.2f')\n",
        "plt.title('Customer Diagram by Season', color = 'white' )\n",
        "plt.legend(df_hol.index)\n",
        "\n",
        "plt.figure(figsize = (10,8))\n",
        "plt.pie(x = df_wea, autopct = '%.2f')\n",
        "plt.title('Customer Diagram by Weather Condition', color = 'white' )\n",
        "plt.legend(df_hol.index)\n",
        "\n",
        "\n",
        "plt.show()"
      ],
      "metadata": {
        "colab": {
          "base_uri": "https://localhost:8080/",
          "height": 1000
        },
        "id": "zXZNQ1v0FNO0",
        "outputId": "108ce4cb-89a1-4ece-fb29-0497ee7f7511"
      },
      "execution_count": null,
      "outputs": [
        {
          "output_type": "display_data",
          "data": {
            "text/plain": [
              "<Figure size 720x576 with 1 Axes>"
            ],
            "image/png": "[encoded data removed]"
          },
          "metadata": {}
        },
        {
          "output_type": "display_data",
          "data": {
            "text/plain": [
              "<Figure size 720x576 with 1 Axes>"
            ],
            "image/png": "[encoded data removed]"
          },
          "metadata": {}
        },
        {
          "output_type": "display_data",
          "data": {
            "text/plain": [
              "<Figure size 720x576 with 1 Axes>"
            ],
            "image/png": "[encoded data removed]"
          },
          "metadata": {}
        }
      ]
    },
    {
      "cell_type": "code",
      "source": [
        "fig,ax = plt.subplots()\n",
        "sns.boxplot(data=df[['cnt',\n",
        "                          'hr']],x='hr',y='cnt',ax=ax)\n",
        "ax.set(title=\"Checking for outliners in day hours\")"
      ],
      "metadata": {
        "colab": {
          "base_uri": "https://localhost:8080/",
          "height": 312
        },
        "id": "xlwo6_m1Griz",
        "outputId": "a2716dc7-17c1-4b61-ca26-246e79c62cdd"
      },
      "execution_count": null,
      "outputs": [
        {
          "output_type": "execute_result",
          "data": {
            "text/plain": [
              "[Text(0.5, 1.0, 'Checking for outliners in day hours')]"
            ]
          },
          "metadata": {},
          "execution_count": 187
        },
        {
          "output_type": "display_data",
          "data": {
            "text/plain": [
              "<Figure size 432x288 with 1 Axes>"
            ],
            "image/png": "[encoded data removed]"
          },
          "metadata": {
            "needs_background": "light"
          }
        }
      ]
    },
    {
      "cell_type": "code",
      "source": [
        "#INCOME PER CATEGORY\n",
        "plt.figure(figsize = (10, 8))\n",
        "ax=sns.histplot(df['hum'])\n",
        "ax.bar_label(ax.containers[0])\n",
        "plt.title('Humidity Distribution')\n",
        "\n",
        "plt.figure(figsize = (10, 8))\n",
        "ax=sns.histplot(df['atemp'])\n",
        "ax.bar_label(ax.containers[0])\n",
        "plt.title('atemp Distribution')\n",
        "\n",
        "plt.figure(figsize = (10, 8))\n",
        "ax=sns.histplot(df['temp'])\n",
        "ax.bar_label(ax.containers[0])\n",
        "plt.title('Temperature Distribution')\n",
        "\n",
        "plt.show()"
      ],
      "metadata": {
        "colab": {
          "base_uri": "https://localhost:8080/",
          "height": 1000
        },
        "id": "PE8t3KP-CmAE",
        "outputId": "19e442e0-2f1e-48cb-9388-6703100f1cc4"
      },
      "execution_count": null,
      "outputs": [
        {
          "output_type": "display_data",
          "data": {
            "text/plain": [
              "<Figure size 720x576 with 1 Axes>"
            ],
            "image/png": "[encoded data removed]"
          },
          "metadata": {
            "needs_background": "light"
          }
        },
        {
          "output_type": "display_data",
          "data": {
            "text/plain": [
              "<Figure size 720x576 with 1 Axes>"
            ],
            "image/png": "[encoded data removed]"
          },
          "metadata": {
            "needs_background": "light"
          }
        },
        {
          "output_type": "display_data",
          "data": {
            "text/plain": [
              "<Figure size 720x576 with 1 Axes>"
            ],
            "image/png": "[encoded data removed]"
          },
          "metadata": {
            "needs_background": "light"
          }
        }
      ]
    },
    {
      "cell_type": "code",
      "source": [
        "num = df[['hum', 'atemp', 'temp', 'hr', 'month', 'dayname', 'year', 'cnt']]\n",
        "num\n",
        "\n",
        "\n",
        "corr_matrix = num.corr()\n",
        "plt.figure(figsize=(18, 15))\n",
        "sns.heatmap(corr_matrix, annot=True,fmt = \".1f\", cmap='Pastel2')\n",
        "plt.show()"
      ],
      "metadata": {
        "colab": {
          "base_uri": "https://localhost:8080/",
          "height": 867
        },
        "id": "C4xXIbcFhI0f",
        "outputId": "02be57e5-7c5c-41cf-cc8a-94cc3a084d84"
      },
      "execution_count": null,
      "outputs": [
        {
          "output_type": "display_data",
          "data": {
            "text/plain": [
              "<Figure size 1296x1080 with 2 Axes>"
            ],
            "image/png": "[encoded data removed]"
          },
          "metadata": {
            "needs_background": "light"
          }
        }
      ]
    },
    {
      "cell_type": "code",
      "source": [
        "# Cek kembali info dataset\n",
        "df.info()"
      ],
      "metadata": {
        "colab": {
          "base_uri": "https://localhost:8080/"
        },
        "id": "ub8ujRNRz6ip",
        "outputId": "d8c3cce7-eb66-45e1-fc02-2179e38e26c8"
      },
      "execution_count": null,
      "outputs": [
        {
          "output_type": "stream",
          "name": "stdout",
          "text": [
            "<class 'pandas.core.frame.DataFrame'>\n",
            "Int64Index: 11813 entries, 0 to 12164\n",
            "Data columns (total 11 columns):\n",
            " #   Column      Non-Null Count  Dtype  \n",
            "---  ------      --------------  -----  \n",
            " 0   hum         11813 non-null  float64\n",
            " 1   weathersit  11813 non-null  object \n",
            " 2   holiday     11813 non-null  int64  \n",
            " 3   season      11813 non-null  object \n",
            " 4   atemp       11813 non-null  float64\n",
            " 5   temp        11813 non-null  float64\n",
            " 6   hr          11813 non-null  int64  \n",
            " 7   cnt         11813 non-null  int64  \n",
            " 8   month       11813 non-null  int64  \n",
            " 9   year        11813 non-null  int64  \n",
            " 10  dayname     11813 non-null  object \n",
            "dtypes: float64(3), int64(5), object(3)\n",
            "memory usage: 1.3+ MB\n"
          ]
        }
      ]
    },
    {
      "cell_type": "code",
      "source": [
        "pip install --upgrade category_encoders"
      ],
      "metadata": {
        "colab": {
          "base_uri": "https://localhost:8080/"
        },
        "id": "kyOlebN20Ycv",
        "outputId": "303e97d8-c2fd-42f7-c62a-bd34685c4b95"
      },
      "execution_count": null,
      "outputs": [
        {
          "output_type": "stream",
          "name": "stdout",
          "text": [
            "Looking in indexes: https://pypi.org/simple, https://us-python.pkg.dev/colab-wheels/public/simple/\n",
            "Requirement already satisfied: category_encoders in /usr/local/lib/python3.7/dist-packages (2.5.1.post0)\n",
            "Requirement already satisfied: scikit-learn>=0.20.0 in /usr/local/lib/python3.7/dist-packages (from category_encoders) (1.0.2)\n",
            "Requirement already satisfied: pandas>=1.0.5 in /usr/local/lib/python3.7/dist-packages (from category_encoders) (1.3.5)\n",
            "Requirement already satisfied: scipy>=1.0.0 in /usr/local/lib/python3.7/dist-packages (from category_encoders) (1.7.3)\n",
            "Requirement already satisfied: numpy>=1.14.0 in /usr/local/lib/python3.7/dist-packages (from category_encoders) (1.21.6)\n",
            "Requirement already satisfied: patsy>=0.5.1 in /usr/local/lib/python3.7/dist-packages (from category_encoders) (0.5.3)\n",
            "Requirement already satisfied: statsmodels>=0.9.0 in /usr/local/lib/python3.7/dist-packages (from category_encoders) (0.12.2)\n",
            "Requirement already satisfied: pytz>=2017.3 in /usr/local/lib/python3.7/dist-packages (from pandas>=1.0.5->category_encoders) (2022.6)\n",
            "Requirement already satisfied: python-dateutil>=2.7.3 in /usr/local/lib/python3.7/dist-packages (from pandas>=1.0.5->category_encoders) (2.8.2)\n",
            "Requirement already satisfied: six in /usr/local/lib/python3.7/dist-packages (from patsy>=0.5.1->category_encoders) (1.15.0)\n",
            "Requirement already satisfied: threadpoolctl>=2.0.0 in /usr/local/lib/python3.7/dist-packages (from scikit-learn>=0.20.0->category_encoders) (3.1.0)\n",
            "Requirement already satisfied: joblib>=0.11 in /usr/local/lib/python3.7/dist-packages (from scikit-learn>=0.20.0->category_encoders) (1.2.0)\n"
          ]
        }
      ]
    },
    {
      "cell_type": "markdown",
      "source": [
        "##MODELING"
      ],
      "metadata": {
        "id": "BFdlHzIasz08"
      }
    },
    {
      "cell_type": "code",
      "source": [
        "# Import library untuk modeling\n",
        "\n",
        "from sklearn.model_selection import train_test_split, cross_val_score, RandomizedSearchCV, GridSearchCV, KFold\n",
        "\n",
        "import category_encoders as ce\n",
        "from sklearn.preprocessing import OneHotEncoder, OrdinalEncoder\n",
        "from sklearn.compose import ColumnTransformer\n",
        "from sklearn.pipeline import Pipeline\n",
        "\n",
        "from sklearn.linear_model import LinearRegression\n",
        "from sklearn.neighbors import KNeighborsRegressor\n",
        "from sklearn.tree import DecisionTreeRegressor\n",
        "from sklearn.ensemble import RandomForestRegressor\n",
        "from xgboost.sklearn import XGBRegressor\n",
        "from sklearn.compose import TransformedTargetRegressor\n",
        "\n",
        "from sklearn.preprocessing import StandardScaler, MinMaxScaler\n",
        "\n",
        "from sklearn.metrics import r2_score, mean_squared_error, mean_absolute_error, mean_absolute_percentage_error"
      ],
      "metadata": {
        "id": "6bn5XjT9wYq8"
      },
      "execution_count": null,
      "outputs": []
    },
    {
      "cell_type": "code",
      "source": [
        "# Mengubah fitur kategorikal menjadi numerikal\n",
        "\n",
        "transformer = ColumnTransformer([\n",
        "    ('One Hot', OneHotEncoder(drop='first', handle_unknown = 'ignore'), ['season', 'weathersit', 'holiday']),\n",
        "    ('Binary', ce.BinaryEncoder(), ['dayname'])\n",
        "], remainder='passthrough')"
      ],
      "metadata": {
        "id": "Ol97JNwDz04s"
      },
      "execution_count": null,
      "outputs": []
    },
    {
      "cell_type": "code",
      "source": [
        "# Memisahkan data independen variabel dengan target\n",
        "X = df.drop(['cnt'], axis=1)\n",
        "y = df['cnt']"
      ],
      "metadata": {
        "id": "HNrQr5Zuwifx"
      },
      "execution_count": null,
      "outputs": []
    },
    {
      "cell_type": "code",
      "source": [
        "# Splitting data training dan test dengan proporsi 70:30\n",
        "X_train, X_test, y_train, y_test= train_test_split(\n",
        "    X,\n",
        "    y,  \n",
        "    test_size=0.3,\n",
        "    random_state=2009)"
      ],
      "metadata": {
        "id": "_DUDG6Gm1Jiz"
      },
      "execution_count": null,
      "outputs": []
    },
    {
      "cell_type": "code",
      "source": [
        "# Define algoritma yang digunakan\n",
        "lr = LinearRegression()\n",
        "knn = KNeighborsRegressor()\n",
        "dt = DecisionTreeRegressor(random_state=1)\n",
        "rf = RandomForestRegressor(random_state=1)\n",
        "xgb = XGBRegressor(random_state=1)\n",
        "\n",
        "# Pemodelan dilakukan dalam skala logaritmik, namun kemudian di-inverse kembali untuk interpretasi\n",
        "log_lr = TransformedTargetRegressor(lr, func=np.log, inverse_func=np.exp)\n",
        "log_knn = TransformedTargetRegressor(knn, func=np.log, inverse_func=np.exp)\n",
        "log_dt = TransformedTargetRegressor(dt, func=np.log, inverse_func=np.exp)\n",
        "log_rf = TransformedTargetRegressor(rf, func=np.log, inverse_func=np.exp)\n",
        "log_xgb = TransformedTargetRegressor(xgb, func=np.log, inverse_func=np.exp)\n",
        "\n",
        "# Scaling data\n",
        "scaler = StandardScaler()\n",
        "\n",
        "# Kandidat algoritma\n",
        "models = [log_lr, log_knn, log_dt, log_rf, log_xgb]\n",
        "\n",
        "score_rmse = []\n",
        "nilai_mean_rmse = []\n",
        "nilai_std_rmse = []\n",
        "\n",
        "score_mae = []\n",
        "nilai_mean_mae = []\n",
        "nilai_std_mae = []\n",
        "\n",
        "score_mape = []\n",
        "nilai_mean_mape = []\n",
        "nilai_std_mape = []\n",
        "\n",
        "# Mencari algoritma terbaik berdasarkan nilai MAE\n",
        "for i in models:\n",
        "    \n",
        "    crossval = KFold(n_splits=5, shuffle=True, random_state=1)\n",
        "\n",
        "    estimator = Pipeline([\n",
        "        ('preprocessing', transformer),\n",
        "        ('scaler', scaler),\n",
        "        ('model', i)\n",
        "    ])\n",
        "\n",
        "    # RMSE\n",
        "    model_cv_rmse = cross_val_score(\n",
        "        estimator, \n",
        "        X_train, \n",
        "        y_train, \n",
        "        cv=crossval, \n",
        "        scoring='neg_root_mean_squared_error', \n",
        "        error_score='raise'\n",
        "        )\n",
        "\n",
        "    print(model_cv_rmse, i)\n",
        "\n",
        "    score_rmse.append(model_cv_rmse)\n",
        "    nilai_mean_rmse.append(model_cv_rmse.mean())\n",
        "    nilai_std_rmse.append(model_cv_rmse.std())\n",
        "\n",
        "    # MAE\n",
        "    model_cv_mae = cross_val_score(\n",
        "        estimator, \n",
        "        X_train, \n",
        "        y_train, \n",
        "        cv=crossval, \n",
        "        scoring='neg_mean_absolute_error', \n",
        "        error_score='raise'\n",
        "        )\n",
        "\n",
        "    print(model_cv_mae, i)\n",
        "\n",
        "    score_mae.append(model_cv_mae)\n",
        "    nilai_mean_mae.append(model_cv_mae.mean())\n",
        "    nilai_std_mae.append(model_cv_mae.std())\n",
        "\n",
        "    # MAPE\n",
        "    model_cv_mape = cross_val_score(\n",
        "        estimator, \n",
        "        X_train, \n",
        "        y_train, \n",
        "        cv=crossval, \n",
        "        scoring='neg_mean_absolute_percentage_error', \n",
        "        error_score='raise'\n",
        "        )\n",
        "\n",
        "    print(model_cv_mape, i)\n",
        "\n",
        "    score_mape.append(model_cv_mape)\n",
        "    nilai_mean_mape.append(model_cv_mape.mean())\n",
        "    nilai_std_mape.append(model_cv_mape.std())"
      ],
      "metadata": {
        "colab": {
          "base_uri": "https://localhost:8080/"
        },
        "id": "zSEeUIsdzWIJ",
        "outputId": "57fb6d5a-48a8-4ad9-f78d-7fcc806ebe82"
      },
      "execution_count": null,
      "outputs": [
        {
          "output_type": "stream",
          "name": "stdout",
          "text": [
            "[-140.19813907 -142.51819281 -138.84025496 -144.8141775  -153.7557464 ] TransformedTargetRegressor(func=<ufunc 'log'>, inverse_func=<ufunc 'exp'>,\n",
            "                           regressor=LinearRegression())\n",
            "[ -94.84742449  -96.89700402  -95.57666828  -96.97224882 -105.25473929] TransformedTargetRegressor(func=<ufunc 'log'>, inverse_func=<ufunc 'exp'>,\n",
            "                           regressor=LinearRegression())\n",
            "[-1.41331164 -1.2513904  -1.42918333 -1.42884009 -1.41320434] TransformedTargetRegressor(func=<ufunc 'log'>, inverse_func=<ufunc 'exp'>,\n",
            "                           regressor=LinearRegression())\n",
            "[-103.87735701 -107.56623102 -102.14030231 -113.50905833 -118.39014485] TransformedTargetRegressor(func=<ufunc 'log'>, inverse_func=<ufunc 'exp'>,\n",
            "                           regressor=KNeighborsRegressor())\n",
            "[-67.36310407 -69.85084062 -68.32929995 -71.45209319 -75.58141802] TransformedTargetRegressor(func=<ufunc 'log'>, inverse_func=<ufunc 'exp'>,\n",
            "                           regressor=KNeighborsRegressor())\n",
            "[-1.10264416 -1.07763518 -1.39585774 -1.25575772 -1.19391403] TransformedTargetRegressor(func=<ufunc 'log'>, inverse_func=<ufunc 'exp'>,\n",
            "                           regressor=KNeighborsRegressor())\n",
            "[-69.16287274 -77.27758825 -83.46308519 -98.55720773 -74.54588501] TransformedTargetRegressor(func=<ufunc 'log'>, inverse_func=<ufunc 'exp'>,\n",
            "                           regressor=DecisionTreeRegressor(random_state=1))\n",
            "[-39.1065224  -44.58988211 -50.97251072 -57.3850886  -44.27578158] TransformedTargetRegressor(func=<ufunc 'log'>, inverse_func=<ufunc 'exp'>,\n",
            "                           regressor=DecisionTreeRegressor(random_state=1))\n",
            "[-0.46588932 -0.45053918 -0.68398483 -0.63689205 -0.45300866] TransformedTargetRegressor(func=<ufunc 'log'>, inverse_func=<ufunc 'exp'>,\n",
            "                           regressor=DecisionTreeRegressor(random_state=1))\n",
            "[-50.50330723 -57.73955919 -59.81865766 -72.68926804 -56.55447319] TransformedTargetRegressor(func=<ufunc 'log'>, inverse_func=<ufunc 'exp'>,\n",
            "                           regressor=RandomForestRegressor(random_state=1))\n",
            "[-30.62812624 -34.56245951 -38.41576642 -44.78059678 -34.74326465] TransformedTargetRegressor(func=<ufunc 'log'>, inverse_func=<ufunc 'exp'>,\n",
            "                           regressor=RandomForestRegressor(random_state=1))\n",
            "[-0.34967806 -0.31348146 -0.43622444 -0.46013363 -0.33042922] TransformedTargetRegressor(func=<ufunc 'log'>, inverse_func=<ufunc 'exp'>,\n",
            "                           regressor=RandomForestRegressor(random_state=1))\n",
            "[16:03:47] WARNING: /workspace/src/objective/regression_obj.cu:152: reg:linear is now deprecated in favor of reg:squarederror.\n",
            "[16:03:47] WARNING: /workspace/src/objective/regression_obj.cu:152: reg:linear is now deprecated in favor of reg:squarederror.\n",
            "[16:03:48] WARNING: /workspace/src/objective/regression_obj.cu:152: reg:linear is now deprecated in favor of reg:squarederror.\n",
            "[16:03:48] WARNING: /workspace/src/objective/regression_obj.cu:152: reg:linear is now deprecated in favor of reg:squarederror.\n",
            "[16:03:49] WARNING: /workspace/src/objective/regression_obj.cu:152: reg:linear is now deprecated in favor of reg:squarederror.\n",
            "[-70.64724086 -78.76970654 -78.29956044 -84.76511072 -83.23070544] TransformedTargetRegressor(func=<ufunc 'log'>, inverse_func=<ufunc 'exp'>,\n",
            "                           regressor=XGBRegressor(random_state=1))\n",
            "[16:03:49] WARNING: /workspace/src/objective/regression_obj.cu:152: reg:linear is now deprecated in favor of reg:squarederror.\n",
            "[16:03:49] WARNING: /workspace/src/objective/regression_obj.cu:152: reg:linear is now deprecated in favor of reg:squarederror.\n",
            "[16:03:50] WARNING: /workspace/src/objective/regression_obj.cu:152: reg:linear is now deprecated in favor of reg:squarederror.\n",
            "[16:03:50] WARNING: /workspace/src/objective/regression_obj.cu:152: reg:linear is now deprecated in favor of reg:squarederror.\n",
            "[16:03:51] WARNING: /workspace/src/objective/regression_obj.cu:152: reg:linear is now deprecated in favor of reg:squarederror.\n",
            "[-45.03519246 -50.2626747  -51.63559775 -54.0958974  -54.12927329] TransformedTargetRegressor(func=<ufunc 'log'>, inverse_func=<ufunc 'exp'>,\n",
            "                           regressor=XGBRegressor(random_state=1))\n",
            "[16:03:51] WARNING: /workspace/src/objective/regression_obj.cu:152: reg:linear is now deprecated in favor of reg:squarederror.\n",
            "[16:03:52] WARNING: /workspace/src/objective/regression_obj.cu:152: reg:linear is now deprecated in favor of reg:squarederror.\n",
            "[16:03:52] WARNING: /workspace/src/objective/regression_obj.cu:152: reg:linear is now deprecated in favor of reg:squarederror.\n",
            "[16:03:53] WARNING: /workspace/src/objective/regression_obj.cu:152: reg:linear is now deprecated in favor of reg:squarederror.\n",
            "[16:03:53] WARNING: /workspace/src/objective/regression_obj.cu:152: reg:linear is now deprecated in favor of reg:squarederror.\n",
            "[-0.47330514 -0.46049137 -0.55507273 -0.53217597 -0.48897867] TransformedTargetRegressor(func=<ufunc 'log'>, inverse_func=<ufunc 'exp'>,\n",
            "                           regressor=XGBRegressor(random_state=1))\n"
          ]
        }
      ]
    },
    {
      "cell_type": "code",
      "source": [
        "# Evaluasi hasil dari 5 kandidat algoritma yang digunakan\n",
        "pd.DataFrame({\n",
        "    'Model': ['Linear Regression', 'KNN Regressor', 'DecisionTree Regressor', 'RandomForest Regressor', 'XGBoost Regressor'],\n",
        "    'Mean_MAE': nilai_mean_mae,\n",
        "    'Std_MAE': nilai_std_mae,\n",
        "    'Mean_MAPE': nilai_mean_mape,\n",
        "    'Std_MAPE': nilai_std_mape,\n",
        "    'Mean_RMSE': nilai_mean_rmse,\n",
        "    'Std_RMSE': nilai_std_rmse\n",
        "})"
      ],
      "metadata": {
        "colab": {
          "base_uri": "https://localhost:8080/",
          "height": 206
        },
        "id": "H8X2As8x1YFY",
        "outputId": "af5cfe92-bd21-4be5-bc33-4e5d6f627961"
      },
      "execution_count": null,
      "outputs": [
        {
          "output_type": "execute_result",
          "data": {
            "text/plain": [
              "                    Model   Mean_MAE   Std_MAE  Mean_MAPE  Std_MAPE  \\\n",
              "0       Linear Regression -97.909617  3.759642  -1.387186  0.068262   \n",
              "1           KNN Regressor -70.515351  2.887891  -1.205162  0.114738   \n",
              "2  DecisionTree Regressor -47.265957  6.305779  -0.538063  0.101157   \n",
              "3  RandomForest Regressor -36.626043  4.763992  -0.377989  0.058930   \n",
              "4       XGBoost Regressor -51.031727  3.343605  -0.502005  0.035898   \n",
              "\n",
              "    Mean_RMSE   Std_RMSE  \n",
              "0 -144.025302   5.274602  \n",
              "1 -109.096619   6.063207  \n",
              "2  -80.601328  10.091156  \n",
              "3  -59.461053   7.304334  \n",
              "4  -79.142465   4.926381  "
            ],
            "text/html": [
              "\n",
              "  <div id=\"df-be6cb131-a845-46c3-bc8d-900134e8c20a\">\n",
              "    <div class=\"colab-df-container\">\n",
              "      <div>\n",
              "<style scoped>\n",
              "    .dataframe tbody tr th:only-of-type {\n",
              "        vertical-align: middle;\n",
              "    }\n",
              "\n",
              "    .dataframe tbody tr th {\n",
              "        vertical-align: top;\n",
              "    }\n",
              "\n",
              "    .dataframe thead th {\n",
              "        text-align: right;\n",
              "    }\n",
              "</style>\n",
              "<table border=\"1\" class=\"dataframe\">\n",
              "  <thead>\n",
              "    <tr style=\"text-align: right;\">\n",
              "      <th></th>\n",
              "      <th>Model</th>\n",
              "      <th>Mean_MAE</th>\n",
              "      <th>Std_MAE</th>\n",
              "      <th>Mean_MAPE</th>\n",
              "      <th>Std_MAPE</th>\n",
              "      <th>Mean_RMSE</th>\n",
              "      <th>Std_RMSE</th>\n",
              "    </tr>\n",
              "  </thead>\n",
              "  <tbody>\n",
              "    <tr>\n",
              "      <th>0</th>\n",
              "      <td>Linear Regression</td>\n",
              "      <td>-97.909617</td>\n",
              "      <td>3.759642</td>\n",
              "      <td>-1.387186</td>\n",
              "      <td>0.068262</td>\n",
              "      <td>-144.025302</td>\n",
              "      <td>5.274602</td>\n",
              "    </tr>\n",
              "    <tr>\n",
              "      <th>1</th>\n",
              "      <td>KNN Regressor</td>\n",
              "      <td>-70.515351</td>\n",
              "      <td>2.887891</td>\n",
              "      <td>-1.205162</td>\n",
              "      <td>0.114738</td>\n",
              "      <td>-109.096619</td>\n",
              "      <td>6.063207</td>\n",
              "    </tr>\n",
              "    <tr>\n",
              "      <th>2</th>\n",
              "      <td>DecisionTree Regressor</td>\n",
              "      <td>-47.265957</td>\n",
              "      <td>6.305779</td>\n",
              "      <td>-0.538063</td>\n",
              "      <td>0.101157</td>\n",
              "      <td>-80.601328</td>\n",
              "      <td>10.091156</td>\n",
              "    </tr>\n",
              "    <tr>\n",
              "      <th>3</th>\n",
              "      <td>RandomForest Regressor</td>\n",
              "      <td>-36.626043</td>\n",
              "      <td>4.763992</td>\n",
              "      <td>-0.377989</td>\n",
              "      <td>0.058930</td>\n",
              "      <td>-59.461053</td>\n",
              "      <td>7.304334</td>\n",
              "    </tr>\n",
              "    <tr>\n",
              "      <th>4</th>\n",
              "      <td>XGBoost Regressor</td>\n",
              "      <td>-51.031727</td>\n",
              "      <td>3.343605</td>\n",
              "      <td>-0.502005</td>\n",
              "      <td>0.035898</td>\n",
              "      <td>-79.142465</td>\n",
              "      <td>4.926381</td>\n",
              "    </tr>\n",
              "  </tbody>\n",
              "</table>\n",
              "</div>\n",
              "      <button class=\"colab-df-convert\" onclick=\"convertToInteractive('df-be6cb131-a845-46c3-bc8d-900134e8c20a')\"\n",
              "              title=\"Convert this dataframe to an interactive table.\"\n",
              "              style=\"display:none;\">\n",
              "        \n",
              "  <svg xmlns=\"http://www.w3.org/2000/svg\" height=\"24px\"viewBox=\"0 0 24 24\"\n",
              "       width=\"24px\">\n",
              "    <path d=\"M0 0h24v24H0V0z\" fill=\"none\"/>\n",
              "    <path d=\"M18.56 5.44l.94 2.06.94-2.06 2.06-.94-2.06-.94-.94-2.06-.94 2.06-2.06.94zm-11 1L8.5 8.5l.94-2.06 2.06-.94-2.06-.94L8.5 2.5l-.94 2.06-2.06.94zm10 10l.94 2.06.94-2.06 2.06-.94-2.06-.94-.94-2.06-.94 2.06-2.06.94z\"/><path d=\"M17.41 7.96l-1.37-1.37c-.4-.4-.92-.59-1.43-.59-.52 0-1.04.2-1.43.59L10.3 9.45l-7.72 7.72c-.78.78-.78 2.05 0 2.83L4 21.41c.39.39.9.59 1.41.59.51 0 1.02-.2 1.41-.59l7.78-7.78 2.81-2.81c.8-.78.8-2.07 0-2.86zM5.41 20L4 18.59l7.72-7.72 1.47 1.35L5.41 20z\"/>\n",
              "  </svg>\n",
              "      </button>\n",
              "      \n",
              "  <style>\n",
              "    .colab-df-container {\n",
              "      display:flex;\n",
              "      flex-wrap:wrap;\n",
              "      gap: 12px;\n",
              "    }\n",
              "\n",
              "    .colab-df-convert {\n",
              "      background-color: #E8F0FE;\n",
              "      border: none;\n",
              "      border-radius: 50%;\n",
              "      cursor: pointer;\n",
              "      display: none;\n",
              "      fill: #1967D2;\n",
              "      height: 32px;\n",
              "      padding: 0 0 0 0;\n",
              "      width: 32px;\n",
              "    }\n",
              "\n",
              "    .colab-df-convert:hover {\n",
              "      background-color: #E2EBFA;\n",
              "      box-shadow: 0px 1px 2px rgba(60, 64, 67, 0.3), 0px 1px 3px 1px rgba(60, 64, 67, 0.15);\n",
              "      fill: #174EA6;\n",
              "    }\n",
              "\n",
              "    [theme=dark] .colab-df-convert {\n",
              "      background-color: #3B4455;\n",
              "      fill: #D2E3FC;\n",
              "    }\n",
              "\n",
              "    [theme=dark] .colab-df-convert:hover {\n",
              "      background-color: #434B5C;\n",
              "      box-shadow: 0px 1px 3px 1px rgba(0, 0, 0, 0.15);\n",
              "      filter: drop-shadow(0px 1px 2px rgba(0, 0, 0, 0.3));\n",
              "      fill: #FFFFFF;\n",
              "    }\n",
              "  </style>\n",
              "\n",
              "      <script>\n",
              "        const buttonEl =\n",
              "          document.querySelector('#df-be6cb131-a845-46c3-bc8d-900134e8c20a button.colab-df-convert');\n",
              "        buttonEl.style.display =\n",
              "          google.colab.kernel.accessAllowed ? 'block' : 'none';\n",
              "\n",
              "        async function convertToInteractive(key) {\n",
              "          const element = document.querySelector('#df-be6cb131-a845-46c3-bc8d-900134e8c20a');\n",
              "          const dataTable =\n",
              "            await google.colab.kernel.invokeFunction('convertToInteractive',\n",
              "                                                     [key], {});\n",
              "          if (!dataTable) return;\n",
              "\n",
              "          const docLinkHtml = 'Like what you see? Visit the ' +\n",
              "            '<a target=\"_blank\" href=https://colab.research.google.com/notebooks/data_table.ipynb>data table notebook</a>'\n",
              "            + ' to learn more about interactive tables.';\n",
              "          element.innerHTML = '';\n",
              "          dataTable['output_type'] = 'display_data';\n",
              "          await google.colab.output.renderOutput(dataTable, element);\n",
              "          const docLink = document.createElement('div');\n",
              "          docLink.innerHTML = docLinkHtml;\n",
              "          element.appendChild(docLink);\n",
              "        }\n",
              "      </script>\n",
              "    </div>\n",
              "  </div>\n",
              "  "
            ]
          },
          "metadata": {},
          "execution_count": 208
        }
      ]
    },
    {
      "cell_type": "code",
      "source": [
        "# Benchmark model terbaik\n",
        "models = {\n",
        "    'XGB': XGBRegressor(random_state=2009),\n",
        "}\n",
        "\n",
        "score_mae = []\n",
        "score_mape = []\n",
        "score_rmse = []\n",
        "\n",
        "# Prediksi pada test set\n",
        "for i in models:\n",
        "\n",
        "    model = Pipeline([\n",
        "        ('preprocessing', transformer),\n",
        "        ('scaler', scaler),\n",
        "        ('model', models[i])\n",
        "        ])\n",
        "\n",
        "    model.fit(X_train, y_train)\n",
        "    y_pred = model.predict(X_test)\n",
        "    score_mae.append(mean_absolute_error(y_test, y_pred))\n",
        "    score_mape.append(mean_absolute_percentage_error(y_test, y_pred))\n",
        "    score_rmse.append(np.sqrt(mean_squared_error(y_test, y_pred)))\n",
        "\n",
        "score_before_tuning = pd.DataFrame({'MAE': score_mae, 'MAPE': score_mape, 'RMSE': score_rmse}, index=models.keys())\n",
        "score_before_tuning"
      ],
      "metadata": {
        "colab": {
          "base_uri": "https://localhost:8080/",
          "height": 98
        },
        "id": "VY1Xyiiq1dKq",
        "outputId": "5f702679-814d-47b8-8d9e-2f91fd243f38"
      },
      "execution_count": null,
      "outputs": [
        {
          "output_type": "stream",
          "name": "stdout",
          "text": [
            "[16:03:53] WARNING: /workspace/src/objective/regression_obj.cu:152: reg:linear is now deprecated in favor of reg:squarederror.\n"
          ]
        },
        {
          "output_type": "execute_result",
          "data": {
            "text/plain": [
              "           MAE      MAPE       RMSE\n",
              "XGB  48.312938  0.971036  69.268168"
            ],
            "text/html": [
              "\n",
              "  <div id=\"df-8e60b8de-127a-41e5-9c67-bdd072b7f542\">\n",
              "    <div class=\"colab-df-container\">\n",
              "      <div>\n",
              "<style scoped>\n",
              "    .dataframe tbody tr th:only-of-type {\n",
              "        vertical-align: middle;\n",
              "    }\n",
              "\n",
              "    .dataframe tbody tr th {\n",
              "        vertical-align: top;\n",
              "    }\n",
              "\n",
              "    .dataframe thead th {\n",
              "        text-align: right;\n",
              "    }\n",
              "</style>\n",
              "<table border=\"1\" class=\"dataframe\">\n",
              "  <thead>\n",
              "    <tr style=\"text-align: right;\">\n",
              "      <th></th>\n",
              "      <th>MAE</th>\n",
              "      <th>MAPE</th>\n",
              "      <th>RMSE</th>\n",
              "    </tr>\n",
              "  </thead>\n",
              "  <tbody>\n",
              "    <tr>\n",
              "      <th>XGB</th>\n",
              "      <td>48.312938</td>\n",
              "      <td>0.971036</td>\n",
              "      <td>69.268168</td>\n",
              "    </tr>\n",
              "  </tbody>\n",
              "</table>\n",
              "</div>\n",
              "      <button class=\"colab-df-convert\" onclick=\"convertToInteractive('df-8e60b8de-127a-41e5-9c67-bdd072b7f542')\"\n",
              "              title=\"Convert this dataframe to an interactive table.\"\n",
              "              style=\"display:none;\">\n",
              "        \n",
              "  <svg xmlns=\"http://www.w3.org/2000/svg\" height=\"24px\"viewBox=\"0 0 24 24\"\n",
              "       width=\"24px\">\n",
              "    <path d=\"M0 0h24v24H0V0z\" fill=\"none\"/>\n",
              "    <path d=\"M18.56 5.44l.94 2.06.94-2.06 2.06-.94-2.06-.94-.94-2.06-.94 2.06-2.06.94zm-11 1L8.5 8.5l.94-2.06 2.06-.94-2.06-.94L8.5 2.5l-.94 2.06-2.06.94zm10 10l.94 2.06.94-2.06 2.06-.94-2.06-.94-.94-2.06-.94 2.06-2.06.94z\"/><path d=\"M17.41 7.96l-1.37-1.37c-.4-.4-.92-.59-1.43-.59-.52 0-1.04.2-1.43.59L10.3 9.45l-7.72 7.72c-.78.78-.78 2.05 0 2.83L4 21.41c.39.39.9.59 1.41.59.51 0 1.02-.2 1.41-.59l7.78-7.78 2.81-2.81c.8-.78.8-2.07 0-2.86zM5.41 20L4 18.59l7.72-7.72 1.47 1.35L5.41 20z\"/>\n",
              "  </svg>\n",
              "      </button>\n",
              "      \n",
              "  <style>\n",
              "    .colab-df-container {\n",
              "      display:flex;\n",
              "      flex-wrap:wrap;\n",
              "      gap: 12px;\n",
              "    }\n",
              "\n",
              "    .colab-df-convert {\n",
              "      background-color: #E8F0FE;\n",
              "      border: none;\n",
              "      border-radius: 50%;\n",
              "      cursor: pointer;\n",
              "      display: none;\n",
              "      fill: #1967D2;\n",
              "      height: 32px;\n",
              "      padding: 0 0 0 0;\n",
              "      width: 32px;\n",
              "    }\n",
              "\n",
              "    .colab-df-convert:hover {\n",
              "      background-color: #E2EBFA;\n",
              "      box-shadow: 0px 1px 2px rgba(60, 64, 67, 0.3), 0px 1px 3px 1px rgba(60, 64, 67, 0.15);\n",
              "      fill: #174EA6;\n",
              "    }\n",
              "\n",
              "    [theme=dark] .colab-df-convert {\n",
              "      background-color: #3B4455;\n",
              "      fill: #D2E3FC;\n",
              "    }\n",
              "\n",
              "    [theme=dark] .colab-df-convert:hover {\n",
              "      background-color: #434B5C;\n",
              "      box-shadow: 0px 1px 3px 1px rgba(0, 0, 0, 0.15);\n",
              "      filter: drop-shadow(0px 1px 2px rgba(0, 0, 0, 0.3));\n",
              "      fill: #FFFFFF;\n",
              "    }\n",
              "  </style>\n",
              "\n",
              "      <script>\n",
              "        const buttonEl =\n",
              "          document.querySelector('#df-8e60b8de-127a-41e5-9c67-bdd072b7f542 button.colab-df-convert');\n",
              "        buttonEl.style.display =\n",
              "          google.colab.kernel.accessAllowed ? 'block' : 'none';\n",
              "\n",
              "        async function convertToInteractive(key) {\n",
              "          const element = document.querySelector('#df-8e60b8de-127a-41e5-9c67-bdd072b7f542');\n",
              "          const dataTable =\n",
              "            await google.colab.kernel.invokeFunction('convertToInteractive',\n",
              "                                                     [key], {});\n",
              "          if (!dataTable) return;\n",
              "\n",
              "          const docLinkHtml = 'Like what you see? Visit the ' +\n",
              "            '<a target=\"_blank\" href=https://colab.research.google.com/notebooks/data_table.ipynb>data table notebook</a>'\n",
              "            + ' to learn more about interactive tables.';\n",
              "          element.innerHTML = '';\n",
              "          dataTable['output_type'] = 'display_data';\n",
              "          await google.colab.output.renderOutput(dataTable, element);\n",
              "          const docLink = document.createElement('div');\n",
              "          docLink.innerHTML = docLinkHtml;\n",
              "          element.appendChild(docLink);\n",
              "        }\n",
              "      </script>\n",
              "    </div>\n",
              "  </div>\n",
              "  "
            ]
          },
          "metadata": {},
          "execution_count": 198
        }
      ]
    },
    {
      "cell_type": "code",
      "source": [
        "# Kedalaman pohon. Semakin dalam kemungkinan meningkatkan performance, namun juga kompleksitas dan kemungkinan overfit.\n",
        "# value integer > 0. Defaultnya 6.\n",
        "max_depth = list(np.arange(5, 16)) # 5 - 15\n",
        "\n",
        "# Learning rate. Menentukan ukuran step pada tiap iterasi sementara model mengoptimalkan ke arah tujuannya.\n",
        "# Learning rate rendah membuat komputasi lebih lambat, dan perlu lebih banyak putaran untuk mencapai pengurangan di\n",
        "# residual error yang sama seperti model dengan learning rate tinggi. Namun akan mengoptimalkan peluang untuk mencapai best optimum.\n",
        "# Nilainya 0 - 1. Defaultnya 0,3.\n",
        "learning_rate = list(np.arange(1, 10)/10) # 0.1 - 0.9\n",
        "\n",
        "# Jumlah pohon di ensemble. Ekuivalen dengan total round dari boosting.\n",
        "# value integer > 0. Defaultnya 100.\n",
        "n_estimators = list(np.arange(100, 300)) # 100 - 299\n",
        "\n",
        "# Jumlah feature yang digunakan untuk tiap pohon (% dari total kolom train set). Mewakili kolom yang akan diambil samplenya\n",
        "# secara acak untuk tiap tree. Kemungkinan dapat meningkatkan overfitting.\n",
        "# value antara 0 - 1. Defaultnya 1.\n",
        "colsample_bytree = list(np.arange(1, 10)/10) # 0.1 - 0.9\n",
        "\n",
        "# Jumlah baris tiap pohon (% dari total baris train set). Mewakili feaction observations yang akan dijadikan sample per tree.\n",
        "# Nilai lebih rendah dapat mencegah overfitting tapi bisa menyebabkan underfitting.\n",
        "# value antara 0 - 1. Defaultnya 1.\n",
        "subsample = list(np.arange(1, 10)/10) # 0.1 - 0.9\n",
        "\n",
        "# Alpha. L1 regularization pada weights (Lasso Regression). Dapat meningkatkan speed performance saat featurenya banyak.\n",
        "# Semakin besar nilainya, semakin konservatif/simpel modelnya\n",
        "# Defaultnya 0.\n",
        "reg_alpha = list(np.logspace(-1, 1, 10)) # 0.1 - 10\n",
        "\n",
        "# Lambda. L2 regulatization pada weights (Ridge Regression). Dapat menurunkan overfitting.\n",
        "# Defaultnya 1.\n",
        "reg_lambda = list(np.logspace(-1, 1, 10)) # 0.1 - 10\n",
        "\n",
        "# Gamma (min_impurity_decrease). Pseudo-regulatization parameter, bergantung pada parameter lainnya.\n",
        "# Semakin besar nilainya, semakin konservatif/simpel modelnya.\n",
        "# Integer berapapun. Defaultnya 0.\n",
        "gamma = list(np.arange(5, 16)) # 5 - 15\n",
        "\n",
        "# Hyperparam space XGboost\n",
        "hyperparam_space_xgb = {\n",
        "    'model__max_depth': max_depth, \n",
        "    'model__learning_rate': learning_rate,\n",
        "    'model__n_estimators': n_estimators,\n",
        "    'model__subsample': subsample,\n",
        "    'model__gamma': gamma,\n",
        "    'model__colsample_bytree': colsample_bytree,\n",
        "    'model__reg_alpha': reg_alpha,\n",
        "    'model__reg_lambda': reg_lambda\n",
        "}"
      ],
      "metadata": {
        "id": "YX818yX11h8r"
      },
      "execution_count": null,
      "outputs": []
    },
    {
      "cell_type": "code",
      "source": [
        "# Benchmark model dengan hyperparameter tuning\n",
        "xgb = XGBRegressor(random_state=2009, verbosity=0)\n",
        "\n",
        "# Membuat algorithm chains\n",
        "estimator_xgb = Pipeline([\n",
        "        ('preprocessing', transformer),\n",
        "        ('scaler', scaler),\n",
        "        ('model', xgb)\n",
        "        ])\n",
        "\n",
        "crossval = KFold(n_splits=5, shuffle=True, random_state=1)\n",
        "\n",
        "# Hyperparameter tuning\n",
        "random_xgb = RandomizedSearchCV(\n",
        "    estimator_xgb, \n",
        "    param_distributions = hyperparam_space_xgb,\n",
        "    n_iter = 50,\n",
        "    cv = crossval, \n",
        "    scoring = ['neg_mean_absolute_error', 'neg_mean_absolute_percentage_error', 'neg_root_mean_squared_error'], \n",
        "    n_jobs = -1,\n",
        "    refit = 'neg_root_mean_squared_error', # Hanya bisa memilih salah stau metric untuk optimisasi\n",
        "    random_state = 2009  \n",
        ")"
      ],
      "metadata": {
        "id": "VPW2Uzlc1kAl"
      },
      "execution_count": null,
      "outputs": []
    },
    {
      "cell_type": "code",
      "source": [
        "# Fitting data training untuk mencari parameter terbaik\n",
        "random_xgb.fit(X_train, y_train)"
      ],
      "metadata": {
        "colab": {
          "base_uri": "https://localhost:8080/"
        },
        "id": "NUx7azQw1mMe",
        "outputId": "9e3ccf08-b166-4941-f4b4-1cbddc25263e"
      },
      "execution_count": null,
      "outputs": [
        {
          "output_type": "execute_result",
          "data": {
            "text/plain": [
              "RandomizedSearchCV(cv=KFold(n_splits=5, random_state=1, shuffle=True),\n",
              "                   estimator=Pipeline(steps=[('preprocessing',\n",
              "                                              ColumnTransformer(remainder='passthrough',\n",
              "                                                                transformers=[('One '\n",
              "                                                                               'Hot',\n",
              "                                                                               OneHotEncoder(drop='first',\n",
              "                                                                                             handle_unknown='ignore'),\n",
              "                                                                               ['season',\n",
              "                                                                                'weathersit',\n",
              "                                                                                'holiday']),\n",
              "                                                                              ('Binary',\n",
              "                                                                               BinaryEncoder(),\n",
              "                                                                               ['dayname'])])),\n",
              "                                             ('scaler', StandardScaler()),\n",
              "                                             ('model',\n",
              "                                              XGBRe...\n",
              "                                                              0.2782559402207124,\n",
              "                                                              0.46415888336127786,\n",
              "                                                              0.774263682681127,\n",
              "                                                              1.291549665014884,\n",
              "                                                              2.1544346900318834,\n",
              "                                                              3.593813663804626,\n",
              "                                                              5.994842503189409,\n",
              "                                                              10.0],\n",
              "                                        'model__subsample': [0.1, 0.2, 0.3, 0.4,\n",
              "                                                             0.5, 0.6, 0.7, 0.8,\n",
              "                                                             0.9]},\n",
              "                   random_state=2009, refit='neg_root_mean_squared_error',\n",
              "                   scoring=['neg_mean_absolute_error',\n",
              "                            'neg_mean_absolute_percentage_error',\n",
              "                            'neg_root_mean_squared_error'])"
            ]
          },
          "metadata": {},
          "execution_count": 201
        }
      ]
    },
    {
      "cell_type": "code",
      "source": [
        "# Cek skor dan params terbaik\n",
        "print('XGBoost')\n",
        "print('Best_score:', random_xgb.best_score_)\n",
        "print('Best_params:', random_xgb.best_params_)"
      ],
      "metadata": {
        "colab": {
          "base_uri": "https://localhost:8080/"
        },
        "id": "uzEtUjlB2-Jx",
        "outputId": "73009bf6-3d2a-405f-ea61-d51fa69a5564"
      },
      "execution_count": null,
      "outputs": [
        {
          "output_type": "stream",
          "name": "stdout",
          "text": [
            "XGBoost\n",
            "Best_score: -46.901087356676335\n",
            "Best_params: {'model__subsample': 0.9, 'model__reg_lambda': 2.1544346900318834, 'model__reg_alpha': 10.0, 'model__n_estimators': 202, 'model__max_depth': 15, 'model__learning_rate': 0.1, 'model__gamma': 8, 'model__colsample_bytree': 0.9}\n"
          ]
        }
      ]
    },
    {
      "cell_type": "code",
      "source": [
        "# Model XGBoost\n",
        "model = {'XGB': XGBRegressor(random_state=2009)}\n",
        "\n",
        "# Define model terhadap estimator terbaik\n",
        "xgb_tuning = random_xgb.best_estimator_\n",
        "\n",
        "# Fitting model\n",
        "xgb_tuning.fit(X_train, y_train)\n",
        "\n",
        "# Predict test set\n",
        "y_pred_xgb_tuning = xgb_tuning.predict(X_test)\n",
        "\n",
        "# Simpan nilai metrics MAE & MAPE setelah tuning\n",
        "mae_xgb_tuning = mean_absolute_error(y_test, y_pred_xgb_tuning)\n",
        "mape_xgb_tuning = mean_absolute_percentage_error(y_test, y_pred_xgb_tuning)\n",
        "rmse_xgb_tuning = np.sqrt(mean_squared_error(y_test, y_pred_xgb_tuning))\n",
        "\n",
        "score_after_tuning = pd.DataFrame({'MAE': mae_xgb_tuning, 'MAPE': mape_xgb_tuning, 'RMSE': rmse_xgb_tuning}, index=model.keys())\n",
        "score_after_tuning"
      ],
      "metadata": {
        "colab": {
          "base_uri": "https://localhost:8080/",
          "height": 81
        },
        "id": "K6gAUyPa3ER6",
        "outputId": "90f8a774-4e1d-4cea-fd73-a4ff715b847a"
      },
      "execution_count": null,
      "outputs": [
        {
          "output_type": "execute_result",
          "data": {
            "text/plain": [
              "           MAE      MAPE       RMSE\n",
              "XGB  25.839615  0.393639  40.972841"
            ],
            "text/html": [
              "\n",
              "  <div id=\"df-763cc92f-ea47-4cd6-8ab1-fcfaf2107d18\">\n",
              "    <div class=\"colab-df-container\">\n",
              "      <div>\n",
              "<style scoped>\n",
              "    .dataframe tbody tr th:only-of-type {\n",
              "        vertical-align: middle;\n",
              "    }\n",
              "\n",
              "    .dataframe tbody tr th {\n",
              "        vertical-align: top;\n",
              "    }\n",
              "\n",
              "    .dataframe thead th {\n",
              "        text-align: right;\n",
              "    }\n",
              "</style>\n",
              "<table border=\"1\" class=\"dataframe\">\n",
              "  <thead>\n",
              "    <tr style=\"text-align: right;\">\n",
              "      <th></th>\n",
              "      <th>MAE</th>\n",
              "      <th>MAPE</th>\n",
              "      <th>RMSE</th>\n",
              "    </tr>\n",
              "  </thead>\n",
              "  <tbody>\n",
              "    <tr>\n",
              "      <th>XGB</th>\n",
              "      <td>25.839615</td>\n",
              "      <td>0.393639</td>\n",
              "      <td>40.972841</td>\n",
              "    </tr>\n",
              "  </tbody>\n",
              "</table>\n",
              "</div>\n",
              "      <button class=\"colab-df-convert\" onclick=\"convertToInteractive('df-763cc92f-ea47-4cd6-8ab1-fcfaf2107d18')\"\n",
              "              title=\"Convert this dataframe to an interactive table.\"\n",
              "              style=\"display:none;\">\n",
              "        \n",
              "  <svg xmlns=\"http://www.w3.org/2000/svg\" height=\"24px\"viewBox=\"0 0 24 24\"\n",
              "       width=\"24px\">\n",
              "    <path d=\"M0 0h24v24H0V0z\" fill=\"none\"/>\n",
              "    <path d=\"M18.56 5.44l.94 2.06.94-2.06 2.06-.94-2.06-.94-.94-2.06-.94 2.06-2.06.94zm-11 1L8.5 8.5l.94-2.06 2.06-.94-2.06-.94L8.5 2.5l-.94 2.06-2.06.94zm10 10l.94 2.06.94-2.06 2.06-.94-2.06-.94-.94-2.06-.94 2.06-2.06.94z\"/><path d=\"M17.41 7.96l-1.37-1.37c-.4-.4-.92-.59-1.43-.59-.52 0-1.04.2-1.43.59L10.3 9.45l-7.72 7.72c-.78.78-.78 2.05 0 2.83L4 21.41c.39.39.9.59 1.41.59.51 0 1.02-.2 1.41-.59l7.78-7.78 2.81-2.81c.8-.78.8-2.07 0-2.86zM5.41 20L4 18.59l7.72-7.72 1.47 1.35L5.41 20z\"/>\n",
              "  </svg>\n",
              "      </button>\n",
              "      \n",
              "  <style>\n",
              "    .colab-df-container {\n",
              "      display:flex;\n",
              "      flex-wrap:wrap;\n",
              "      gap: 12px;\n",
              "    }\n",
              "\n",
              "    .colab-df-convert {\n",
              "      background-color: #E8F0FE;\n",
              "      border: none;\n",
              "      border-radius: 50%;\n",
              "      cursor: pointer;\n",
              "      display: none;\n",
              "      fill: #1967D2;\n",
              "      height: 32px;\n",
              "      padding: 0 0 0 0;\n",
              "      width: 32px;\n",
              "    }\n",
              "\n",
              "    .colab-df-convert:hover {\n",
              "      background-color: #E2EBFA;\n",
              "      box-shadow: 0px 1px 2px rgba(60, 64, 67, 0.3), 0px 1px 3px 1px rgba(60, 64, 67, 0.15);\n",
              "      fill: #174EA6;\n",
              "    }\n",
              "\n",
              "    [theme=dark] .colab-df-convert {\n",
              "      background-color: #3B4455;\n",
              "      fill: #D2E3FC;\n",
              "    }\n",
              "\n",
              "    [theme=dark] .colab-df-convert:hover {\n",
              "      background-color: #434B5C;\n",
              "      box-shadow: 0px 1px 3px 1px rgba(0, 0, 0, 0.15);\n",
              "      filter: drop-shadow(0px 1px 2px rgba(0, 0, 0, 0.3));\n",
              "      fill: #FFFFFF;\n",
              "    }\n",
              "  </style>\n",
              "\n",
              "      <script>\n",
              "        const buttonEl =\n",
              "          document.querySelector('#df-763cc92f-ea47-4cd6-8ab1-fcfaf2107d18 button.colab-df-convert');\n",
              "        buttonEl.style.display =\n",
              "          google.colab.kernel.accessAllowed ? 'block' : 'none';\n",
              "\n",
              "        async function convertToInteractive(key) {\n",
              "          const element = document.querySelector('#df-763cc92f-ea47-4cd6-8ab1-fcfaf2107d18');\n",
              "          const dataTable =\n",
              "            await google.colab.kernel.invokeFunction('convertToInteractive',\n",
              "                                                     [key], {});\n",
              "          if (!dataTable) return;\n",
              "\n",
              "          const docLinkHtml = 'Like what you see? Visit the ' +\n",
              "            '<a target=\"_blank\" href=https://colab.research.google.com/notebooks/data_table.ipynb>data table notebook</a>'\n",
              "            + ' to learn more about interactive tables.';\n",
              "          element.innerHTML = '';\n",
              "          dataTable['output_type'] = 'display_data';\n",
              "          await google.colab.output.renderOutput(dataTable, element);\n",
              "          const docLink = document.createElement('div');\n",
              "          docLink.innerHTML = docLinkHtml;\n",
              "          element.appendChild(docLink);\n",
              "        }\n",
              "      </script>\n",
              "    </div>\n",
              "  </div>\n",
              "  "
            ]
          },
          "metadata": {},
          "execution_count": 203
        }
      ]
    },
    {
      "cell_type": "code",
      "source": [
        "# Sebelum hyperparameter tuning\n",
        "pd.DataFrame(score_before_tuning.loc['XGB']).T"
      ],
      "metadata": {
        "colab": {
          "base_uri": "https://localhost:8080/",
          "height": 81
        },
        "id": "DauDJpyP3HZn",
        "outputId": "032ea31f-6a6d-4794-f0c3-a9d4bbe2697b"
      },
      "execution_count": null,
      "outputs": [
        {
          "output_type": "execute_result",
          "data": {
            "text/plain": [
              "           MAE      MAPE       RMSE\n",
              "XGB  48.312938  0.971036  69.268168"
            ],
            "text/html": [
              "\n",
              "  <div id=\"df-32dcfa02-e726-41e3-b5af-c1102e5b52f5\">\n",
              "    <div class=\"colab-df-container\">\n",
              "      <div>\n",
              "<style scoped>\n",
              "    .dataframe tbody tr th:only-of-type {\n",
              "        vertical-align: middle;\n",
              "    }\n",
              "\n",
              "    .dataframe tbody tr th {\n",
              "        vertical-align: top;\n",
              "    }\n",
              "\n",
              "    .dataframe thead th {\n",
              "        text-align: right;\n",
              "    }\n",
              "</style>\n",
              "<table border=\"1\" class=\"dataframe\">\n",
              "  <thead>\n",
              "    <tr style=\"text-align: right;\">\n",
              "      <th></th>\n",
              "      <th>MAE</th>\n",
              "      <th>MAPE</th>\n",
              "      <th>RMSE</th>\n",
              "    </tr>\n",
              "  </thead>\n",
              "  <tbody>\n",
              "    <tr>\n",
              "      <th>XGB</th>\n",
              "      <td>48.312938</td>\n",
              "      <td>0.971036</td>\n",
              "      <td>69.268168</td>\n",
              "    </tr>\n",
              "  </tbody>\n",
              "</table>\n",
              "</div>\n",
              "      <button class=\"colab-df-convert\" onclick=\"convertToInteractive('df-32dcfa02-e726-41e3-b5af-c1102e5b52f5')\"\n",
              "              title=\"Convert this dataframe to an interactive table.\"\n",
              "              style=\"display:none;\">\n",
              "        \n",
              "  <svg xmlns=\"http://www.w3.org/2000/svg\" height=\"24px\"viewBox=\"0 0 24 24\"\n",
              "       width=\"24px\">\n",
              "    <path d=\"M0 0h24v24H0V0z\" fill=\"none\"/>\n",
              "    <path d=\"M18.56 5.44l.94 2.06.94-2.06 2.06-.94-2.06-.94-.94-2.06-.94 2.06-2.06.94zm-11 1L8.5 8.5l.94-2.06 2.06-.94-2.06-.94L8.5 2.5l-.94 2.06-2.06.94zm10 10l.94 2.06.94-2.06 2.06-.94-2.06-.94-.94-2.06-.94 2.06-2.06.94z\"/><path d=\"M17.41 7.96l-1.37-1.37c-.4-.4-.92-.59-1.43-.59-.52 0-1.04.2-1.43.59L10.3 9.45l-7.72 7.72c-.78.78-.78 2.05 0 2.83L4 21.41c.39.39.9.59 1.41.59.51 0 1.02-.2 1.41-.59l7.78-7.78 2.81-2.81c.8-.78.8-2.07 0-2.86zM5.41 20L4 18.59l7.72-7.72 1.47 1.35L5.41 20z\"/>\n",
              "  </svg>\n",
              "      </button>\n",
              "      \n",
              "  <style>\n",
              "    .colab-df-container {\n",
              "      display:flex;\n",
              "      flex-wrap:wrap;\n",
              "      gap: 12px;\n",
              "    }\n",
              "\n",
              "    .colab-df-convert {\n",
              "      background-color: #E8F0FE;\n",
              "      border: none;\n",
              "      border-radius: 50%;\n",
              "      cursor: pointer;\n",
              "      display: none;\n",
              "      fill: #1967D2;\n",
              "      height: 32px;\n",
              "      padding: 0 0 0 0;\n",
              "      width: 32px;\n",
              "    }\n",
              "\n",
              "    .colab-df-convert:hover {\n",
              "      background-color: #E2EBFA;\n",
              "      box-shadow: 0px 1px 2px rgba(60, 64, 67, 0.3), 0px 1px 3px 1px rgba(60, 64, 67, 0.15);\n",
              "      fill: #174EA6;\n",
              "    }\n",
              "\n",
              "    [theme=dark] .colab-df-convert {\n",
              "      background-color: #3B4455;\n",
              "      fill: #D2E3FC;\n",
              "    }\n",
              "\n",
              "    [theme=dark] .colab-df-convert:hover {\n",
              "      background-color: #434B5C;\n",
              "      box-shadow: 0px 1px 3px 1px rgba(0, 0, 0, 0.15);\n",
              "      filter: drop-shadow(0px 1px 2px rgba(0, 0, 0, 0.3));\n",
              "      fill: #FFFFFF;\n",
              "    }\n",
              "  </style>\n",
              "\n",
              "      <script>\n",
              "        const buttonEl =\n",
              "          document.querySelector('#df-32dcfa02-e726-41e3-b5af-c1102e5b52f5 button.colab-df-convert');\n",
              "        buttonEl.style.display =\n",
              "          google.colab.kernel.accessAllowed ? 'block' : 'none';\n",
              "\n",
              "        async function convertToInteractive(key) {\n",
              "          const element = document.querySelector('#df-32dcfa02-e726-41e3-b5af-c1102e5b52f5');\n",
              "          const dataTable =\n",
              "            await google.colab.kernel.invokeFunction('convertToInteractive',\n",
              "                                                     [key], {});\n",
              "          if (!dataTable) return;\n",
              "\n",
              "          const docLinkHtml = 'Like what you see? Visit the ' +\n",
              "            '<a target=\"_blank\" href=https://colab.research.google.com/notebooks/data_table.ipynb>data table notebook</a>'\n",
              "            + ' to learn more about interactive tables.';\n",
              "          element.innerHTML = '';\n",
              "          dataTable['output_type'] = 'display_data';\n",
              "          await google.colab.output.renderOutput(dataTable, element);\n",
              "          const docLink = document.createElement('div');\n",
              "          docLink.innerHTML = docLinkHtml;\n",
              "          element.appendChild(docLink);\n",
              "        }\n",
              "      </script>\n",
              "    </div>\n",
              "  </div>\n",
              "  "
            ]
          },
          "metadata": {},
          "execution_count": 204
        }
      ]
    },
    {
      "cell_type": "code",
      "source": [
        "score_after_tuning"
      ],
      "metadata": {
        "colab": {
          "base_uri": "https://localhost:8080/",
          "height": 81
        },
        "id": "NlyBLZYU3LiN",
        "outputId": "fee63916-dd1e-44f9-a015-df6b6a318711"
      },
      "execution_count": null,
      "outputs": [
        {
          "output_type": "execute_result",
          "data": {
            "text/plain": [
              "           MAE      MAPE       RMSE\n",
              "XGB  25.839615  0.393639  40.972841"
            ],
            "text/html": [
              "\n",
              "  <div id=\"df-2df6df72-64d0-4a15-a4e8-1f043bafb4fb\">\n",
              "    <div class=\"colab-df-container\">\n",
              "      <div>\n",
              "<style scoped>\n",
              "    .dataframe tbody tr th:only-of-type {\n",
              "        vertical-align: middle;\n",
              "    }\n",
              "\n",
              "    .dataframe tbody tr th {\n",
              "        vertical-align: top;\n",
              "    }\n",
              "\n",
              "    .dataframe thead th {\n",
              "        text-align: right;\n",
              "    }\n",
              "</style>\n",
              "<table border=\"1\" class=\"dataframe\">\n",
              "  <thead>\n",
              "    <tr style=\"text-align: right;\">\n",
              "      <th></th>\n",
              "      <th>MAE</th>\n",
              "      <th>MAPE</th>\n",
              "      <th>RMSE</th>\n",
              "    </tr>\n",
              "  </thead>\n",
              "  <tbody>\n",
              "    <tr>\n",
              "      <th>XGB</th>\n",
              "      <td>25.839615</td>\n",
              "      <td>0.393639</td>\n",
              "      <td>40.972841</td>\n",
              "    </tr>\n",
              "  </tbody>\n",
              "</table>\n",
              "</div>\n",
              "      <button class=\"colab-df-convert\" onclick=\"convertToInteractive('df-2df6df72-64d0-4a15-a4e8-1f043bafb4fb')\"\n",
              "              title=\"Convert this dataframe to an interactive table.\"\n",
              "              style=\"display:none;\">\n",
              "        \n",
              "  <svg xmlns=\"http://www.w3.org/2000/svg\" height=\"24px\"viewBox=\"0 0 24 24\"\n",
              "       width=\"24px\">\n",
              "    <path d=\"M0 0h24v24H0V0z\" fill=\"none\"/>\n",
              "    <path d=\"M18.56 5.44l.94 2.06.94-2.06 2.06-.94-2.06-.94-.94-2.06-.94 2.06-2.06.94zm-11 1L8.5 8.5l.94-2.06 2.06-.94-2.06-.94L8.5 2.5l-.94 2.06-2.06.94zm10 10l.94 2.06.94-2.06 2.06-.94-2.06-.94-.94-2.06-.94 2.06-2.06.94z\"/><path d=\"M17.41 7.96l-1.37-1.37c-.4-.4-.92-.59-1.43-.59-.52 0-1.04.2-1.43.59L10.3 9.45l-7.72 7.72c-.78.78-.78 2.05 0 2.83L4 21.41c.39.39.9.59 1.41.59.51 0 1.02-.2 1.41-.59l7.78-7.78 2.81-2.81c.8-.78.8-2.07 0-2.86zM5.41 20L4 18.59l7.72-7.72 1.47 1.35L5.41 20z\"/>\n",
              "  </svg>\n",
              "      </button>\n",
              "      \n",
              "  <style>\n",
              "    .colab-df-container {\n",
              "      display:flex;\n",
              "      flex-wrap:wrap;\n",
              "      gap: 12px;\n",
              "    }\n",
              "\n",
              "    .colab-df-convert {\n",
              "      background-color: #E8F0FE;\n",
              "      border: none;\n",
              "      border-radius: 50%;\n",
              "      cursor: pointer;\n",
              "      display: none;\n",
              "      fill: #1967D2;\n",
              "      height: 32px;\n",
              "      padding: 0 0 0 0;\n",
              "      width: 32px;\n",
              "    }\n",
              "\n",
              "    .colab-df-convert:hover {\n",
              "      background-color: #E2EBFA;\n",
              "      box-shadow: 0px 1px 2px rgba(60, 64, 67, 0.3), 0px 1px 3px 1px rgba(60, 64, 67, 0.15);\n",
              "      fill: #174EA6;\n",
              "    }\n",
              "\n",
              "    [theme=dark] .colab-df-convert {\n",
              "      background-color: #3B4455;\n",
              "      fill: #D2E3FC;\n",
              "    }\n",
              "\n",
              "    [theme=dark] .colab-df-convert:hover {\n",
              "      background-color: #434B5C;\n",
              "      box-shadow: 0px 1px 3px 1px rgba(0, 0, 0, 0.15);\n",
              "      filter: drop-shadow(0px 1px 2px rgba(0, 0, 0, 0.3));\n",
              "      fill: #FFFFFF;\n",
              "    }\n",
              "  </style>\n",
              "\n",
              "      <script>\n",
              "        const buttonEl =\n",
              "          document.querySelector('#df-2df6df72-64d0-4a15-a4e8-1f043bafb4fb button.colab-df-convert');\n",
              "        buttonEl.style.display =\n",
              "          google.colab.kernel.accessAllowed ? 'block' : 'none';\n",
              "\n",
              "        async function convertToInteractive(key) {\n",
              "          const element = document.querySelector('#df-2df6df72-64d0-4a15-a4e8-1f043bafb4fb');\n",
              "          const dataTable =\n",
              "            await google.colab.kernel.invokeFunction('convertToInteractive',\n",
              "                                                     [key], {});\n",
              "          if (!dataTable) return;\n",
              "\n",
              "          const docLinkHtml = 'Like what you see? Visit the ' +\n",
              "            '<a target=\"_blank\" href=https://colab.research.google.com/notebooks/data_table.ipynb>data table notebook</a>'\n",
              "            + ' to learn more about interactive tables.';\n",
              "          element.innerHTML = '';\n",
              "          dataTable['output_type'] = 'display_data';\n",
              "          await google.colab.output.renderOutput(dataTable, element);\n",
              "          const docLink = document.createElement('div');\n",
              "          docLink.innerHTML = docLinkHtml;\n",
              "          element.appendChild(docLink);\n",
              "        }\n",
              "      </script>\n",
              "    </div>\n",
              "  </div>\n",
              "  "
            ]
          },
          "metadata": {},
          "execution_count": 205
        }
      ]
    },
    {
      "cell_type": "code",
      "source": [
        "plt.figure(figsize=(14, 8))\n",
        "plot = sns.scatterplot(x=y_test, y=y_pred_xgb_tuning).set(title='Actual vs. Prediction Count', \n",
        "                                               xlabel='Actual Count', \n",
        "                                               ylabel='Predicted Count');"
      ],
      "metadata": {
        "colab": {
          "base_uri": "https://localhost:8080/",
          "height": 513
        },
        "id": "FM7YAdgt3lW0",
        "outputId": "ac262058-fac1-477e-c0a1-775df189fafe"
      },
      "execution_count": null,
      "outputs": [
        {
          "output_type": "display_data",
          "data": {
            "text/plain": [
              "<Figure size 1008x576 with 1 Axes>"
            ],
            "image/png": "[encoded data removed]"
          },
          "metadata": {
            "needs_background": "light"
          }
        }
      ]
    },
    {
      "cell_type": "code",
      "source": [
        "# Plot feature importances\n",
        "feature_imp = pd.Series(xgb_tuning['model'].feature_importances_, transformer.get_feature_names()).sort_values(ascending = False)\n",
        "feature_imp.plot(kind='barh', title='Feature Importances');"
      ],
      "metadata": {
        "colab": {
          "base_uri": "https://localhost:8080/",
          "height": 281
        },
        "id": "7uu8HSRD3r5n",
        "outputId": "93784997-5483-44e1-d072-0d548828dbae"
      },
      "execution_count": null,
      "outputs": [
        {
          "output_type": "display_data",
          "data": {
            "text/plain": [
              "<Figure size 432x288 with 1 Axes>"
            ],
            "image/png": "[encoded data removed]"
          },
          "metadata": {
            "needs_background": "light"
          }
        }
      ]
    },
    {
      "cell_type": "code",
      "source": [
        "# Save model\n",
        "import pickle\n",
        "\n",
        "# final_model = Pipeline([('preprocess', transformer), ('model', XGBRegressor())])\n",
        "# final_model.fit(X_train, y_train)\n",
        "final_model = random_xgb.best_estimator_.fit(X_train, y_train)\n",
        "\n",
        "pickle.dump(final_model, open('Model_XGB_BikeSharing.sav', 'wb'))"
      ],
      "metadata": {
        "id": "-rra7pctGGr3"
      },
      "execution_count": null,
      "outputs": []
    },
    {
      "cell_type": "code",
      "source": [
        "# Load model\n",
        "filename = 'Model_XGB_BikeSharing.sav'\n",
        "loaded_model = pickle.load(open(filename, 'rb'))"
      ],
      "metadata": {
        "id": "PegUQ-ctGIpZ"
      },
      "execution_count": null,
      "outputs": []
    },
    {
      "cell_type": "code",
      "source": [
        "np.sqrt(mean_squared_error(y_test, loaded_model.predict(X_test)))"
      ],
      "metadata": {
        "colab": {
          "base_uri": "https://localhost:8080/"
        },
        "id": "WDt-jp2MGK1I",
        "outputId": "5535fa8c-afd8-4486-c6c4-598d345efb40"
      },
      "execution_count": null,
      "outputs": [
        {
          "output_type": "execute_result",
          "data": {
            "text/plain": [
              "40.97284133508822"
            ]
          },
          "metadata": {},
          "execution_count": 211
        }
      ]
    }
  ]
}